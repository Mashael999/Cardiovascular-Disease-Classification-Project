{
 "cells": [
  {
   "cell_type": "markdown",
   "id": "eb2b0ed3",
   "metadata": {
    "id": "eb2b0ed3"
   },
   "source": [
    "# Cardiovascular Disease Project\n",
    "#### By : Hala Alenazi & Mashael Alfehaid\n",
    "____________"
   ]
  },
  {
   "cell_type": "markdown",
   "id": "65feec0d",
   "metadata": {
    "id": "65feec0d"
   },
   "source": [
    "## Project Scope\n",
    "- Our goal in this project is to predict the patient's condition."
   ]
  },
  {
   "cell_type": "markdown",
   "id": "73e13e1e",
   "metadata": {
    "id": "73e13e1e"
   },
   "source": [
    "## Data Description\n",
    "After we obtained the datasets these are the features used:\n",
    "- **Age** | Objective Feature | age | int (days).\n",
    "- **Height** | Objective Feature | height | int (cm).\n",
    "- **Weight** | Objective Feature | weight | float (kg). \n",
    "- **Gender** | Objective Feature | gender | categorical code. \n",
    "- **Systolic blood pressure** | Examination Feature | ap_hi | int. \n",
    "- **Diastolic blood pressure** | Examination Feature | ap_lo | int. \n",
    "- **Cholesterol** | Examination Feature | cholesterol | 1: normal, 2: above normal, 3: well above normal. \n",
    "- **Glucose** | Examination Feature | gluc | 1: normal, 2: above normal, 3: well above normal. \n",
    "- **Smoking** | Subjective Feature | smoke | binary. \n",
    "- **Alcohol intake** | Subjective Feature | alco | binary. \n",
    "- **Physical activity** | Subjective Feature | active | binary. \n",
    "- **Presence or absence of cardiovascular disease** | Target Variable | cardio | binary. \n",
    "\n",
    "- All of the dataset values were collected at the moment of medical examination.\n",
    "- The datasets that will be used in this project is a public source from Kaggle."
   ]
  },
  {
   "cell_type": "markdown",
   "id": "fbc58369",
   "metadata": {
    "id": "fbc58369"
   },
   "source": [
    "____________\n",
    "## Import the Main Modules to be Used"
   ]
  },
  {
   "cell_type": "code",
   "execution_count": 65,
   "id": "d0c651cf",
   "metadata": {
    "id": "d0c651cf"
   },
   "outputs": [],
   "source": [
    "#imports Data exploration and visualization\n",
    "\n",
    "import pickle\n",
    "import numpy as np\n",
    "import pandas as pd\n",
    "import seaborn as sns\n",
    "import matplotlib.pyplot as plt\n",
    "import warnings\n",
    "warnings.filterwarnings('ignore')\n",
    "%matplotlib inline"
   ]
  },
  {
   "cell_type": "markdown",
   "id": "a0122add",
   "metadata": {
    "id": "a0122add"
   },
   "source": [
    "____________"
   ]
  },
  {
   "cell_type": "markdown",
   "id": "ccee3ada",
   "metadata": {
    "id": "ccee3ada"
   },
   "source": [
    "## Load Dataset"
   ]
  },
  {
   "cell_type": "code",
   "execution_count": 66,
   "id": "0ce3bb32",
   "metadata": {
    "id": "0ce3bb32"
   },
   "outputs": [],
   "source": [
    "# Read the 'Cardiovascular Disease dataset.csv' dataset into an object named 'df'.\n",
    "\n",
    "df = pd.read_csv('Cardiovascular Disease dataset.csv', sep = r';')"
   ]
  },
  {
   "cell_type": "code",
   "execution_count": 67,
   "id": "253e2190",
   "metadata": {
    "colab": {
     "base_uri": "https://localhost:8080/",
     "height": 206
    },
    "id": "253e2190",
    "outputId": "4c6f869e-9a8f-4240-b679-efc88425a782"
   },
   "outputs": [
    {
     "data": {
      "text/html": [
       "<div>\n",
       "<style scoped>\n",
       "    .dataframe tbody tr th:only-of-type {\n",
       "        vertical-align: middle;\n",
       "    }\n",
       "\n",
       "    .dataframe tbody tr th {\n",
       "        vertical-align: top;\n",
       "    }\n",
       "\n",
       "    .dataframe thead th {\n",
       "        text-align: right;\n",
       "    }\n",
       "</style>\n",
       "<table border=\"1\" class=\"dataframe\">\n",
       "  <thead>\n",
       "    <tr style=\"text-align: right;\">\n",
       "      <th></th>\n",
       "      <th>id</th>\n",
       "      <th>age</th>\n",
       "      <th>gender</th>\n",
       "      <th>height</th>\n",
       "      <th>weight</th>\n",
       "      <th>ap_hi</th>\n",
       "      <th>ap_lo</th>\n",
       "      <th>cholesterol</th>\n",
       "      <th>gluc</th>\n",
       "      <th>smoke</th>\n",
       "      <th>alco</th>\n",
       "      <th>active</th>\n",
       "      <th>cardio</th>\n",
       "    </tr>\n",
       "  </thead>\n",
       "  <tbody>\n",
       "    <tr>\n",
       "      <th>0</th>\n",
       "      <td>0</td>\n",
       "      <td>18393</td>\n",
       "      <td>2</td>\n",
       "      <td>168</td>\n",
       "      <td>62.0</td>\n",
       "      <td>110</td>\n",
       "      <td>80</td>\n",
       "      <td>1</td>\n",
       "      <td>1</td>\n",
       "      <td>0</td>\n",
       "      <td>0</td>\n",
       "      <td>1</td>\n",
       "      <td>0</td>\n",
       "    </tr>\n",
       "    <tr>\n",
       "      <th>1</th>\n",
       "      <td>1</td>\n",
       "      <td>20228</td>\n",
       "      <td>1</td>\n",
       "      <td>156</td>\n",
       "      <td>85.0</td>\n",
       "      <td>140</td>\n",
       "      <td>90</td>\n",
       "      <td>3</td>\n",
       "      <td>1</td>\n",
       "      <td>0</td>\n",
       "      <td>0</td>\n",
       "      <td>1</td>\n",
       "      <td>1</td>\n",
       "    </tr>\n",
       "    <tr>\n",
       "      <th>2</th>\n",
       "      <td>2</td>\n",
       "      <td>18857</td>\n",
       "      <td>1</td>\n",
       "      <td>165</td>\n",
       "      <td>64.0</td>\n",
       "      <td>130</td>\n",
       "      <td>70</td>\n",
       "      <td>3</td>\n",
       "      <td>1</td>\n",
       "      <td>0</td>\n",
       "      <td>0</td>\n",
       "      <td>0</td>\n",
       "      <td>1</td>\n",
       "    </tr>\n",
       "    <tr>\n",
       "      <th>3</th>\n",
       "      <td>3</td>\n",
       "      <td>17623</td>\n",
       "      <td>2</td>\n",
       "      <td>169</td>\n",
       "      <td>82.0</td>\n",
       "      <td>150</td>\n",
       "      <td>100</td>\n",
       "      <td>1</td>\n",
       "      <td>1</td>\n",
       "      <td>0</td>\n",
       "      <td>0</td>\n",
       "      <td>1</td>\n",
       "      <td>1</td>\n",
       "    </tr>\n",
       "    <tr>\n",
       "      <th>4</th>\n",
       "      <td>4</td>\n",
       "      <td>17474</td>\n",
       "      <td>1</td>\n",
       "      <td>156</td>\n",
       "      <td>56.0</td>\n",
       "      <td>100</td>\n",
       "      <td>60</td>\n",
       "      <td>1</td>\n",
       "      <td>1</td>\n",
       "      <td>0</td>\n",
       "      <td>0</td>\n",
       "      <td>0</td>\n",
       "      <td>0</td>\n",
       "    </tr>\n",
       "  </tbody>\n",
       "</table>\n",
       "</div>"
      ],
      "text/plain": [
       "   id    age  gender  height  weight  ap_hi  ap_lo  cholesterol  gluc  smoke  \\\n",
       "0   0  18393       2     168    62.0    110     80            1     1      0   \n",
       "1   1  20228       1     156    85.0    140     90            3     1      0   \n",
       "2   2  18857       1     165    64.0    130     70            3     1      0   \n",
       "3   3  17623       2     169    82.0    150    100            1     1      0   \n",
       "4   4  17474       1     156    56.0    100     60            1     1      0   \n",
       "\n",
       "   alco  active  cardio  \n",
       "0     0       1       0  \n",
       "1     0       1       1  \n",
       "2     0       0       1  \n",
       "3     0       1       1  \n",
       "4     0       0       0  "
      ]
     },
     "execution_count": 67,
     "metadata": {},
     "output_type": "execute_result"
    }
   ],
   "source": [
    "# showing the first 5 rows.\n",
    "\n",
    "df.head()"
   ]
  },
  {
   "cell_type": "code",
   "execution_count": 68,
   "id": "851a433b",
   "metadata": {
    "colab": {
     "base_uri": "https://localhost:8080/",
     "height": 0
    },
    "id": "851a433b",
    "outputId": "5524cdb0-427a-4cde-f732-9b68a78f7efb"
   },
   "outputs": [
    {
     "data": {
      "text/plain": [
       "(70000, 13)"
      ]
     },
     "execution_count": 68,
     "metadata": {},
     "output_type": "execute_result"
    }
   ],
   "source": [
    "# Shows the number of rows and columns in the data\n",
    "\n",
    "df.shape"
   ]
  },
  {
   "cell_type": "code",
   "execution_count": 69,
   "id": "fc55119f",
   "metadata": {
    "colab": {
     "base_uri": "https://localhost:8080/",
     "height": 0
    },
    "id": "fc55119f",
    "outputId": "50f5171e-8315-42d5-cc0d-e6ebb2789c15"
   },
   "outputs": [
    {
     "name": "stdout",
     "output_type": "stream",
     "text": [
      "<class 'pandas.core.frame.DataFrame'>\n",
      "RangeIndex: 70000 entries, 0 to 69999\n",
      "Data columns (total 13 columns):\n",
      " #   Column       Non-Null Count  Dtype  \n",
      "---  ------       --------------  -----  \n",
      " 0   id           70000 non-null  int64  \n",
      " 1   age          70000 non-null  int64  \n",
      " 2   gender       70000 non-null  int64  \n",
      " 3   height       70000 non-null  int64  \n",
      " 4   weight       70000 non-null  float64\n",
      " 5   ap_hi        70000 non-null  int64  \n",
      " 6   ap_lo        70000 non-null  int64  \n",
      " 7   cholesterol  70000 non-null  int64  \n",
      " 8   gluc         70000 non-null  int64  \n",
      " 9   smoke        70000 non-null  int64  \n",
      " 10  alco         70000 non-null  int64  \n",
      " 11  active       70000 non-null  int64  \n",
      " 12  cardio       70000 non-null  int64  \n",
      "dtypes: float64(1), int64(12)\n",
      "memory usage: 6.9 MB\n"
     ]
    }
   ],
   "source": [
    "#General information about the data\n",
    "\n",
    "df.info()"
   ]
  },
  {
   "cell_type": "markdown",
   "id": "5e55a546",
   "metadata": {
    "id": "5e55a546"
   },
   "source": [
    "________"
   ]
  },
  {
   "cell_type": "markdown",
   "id": "40355dce",
   "metadata": {
    "id": "40355dce"
   },
   "source": [
    "## Data Cleaning\n",
    "\n",
    "- Check duplicates.\n",
    "- Check null.\n",
    "- Rename columns.\n",
    "- convert [age] from days to years\n"
   ]
  },
  {
   "cell_type": "code",
   "execution_count": 70,
   "id": "fb113877",
   "metadata": {
    "colab": {
     "base_uri": "https://localhost:8080/",
     "height": 0
    },
    "id": "fb113877",
    "outputId": "4b889d4b-4cc1-4f49-f793-cdda5b5208d3"
   },
   "outputs": [
    {
     "data": {
      "text/plain": [
       "0"
      ]
     },
     "execution_count": 70,
     "metadata": {},
     "output_type": "execute_result"
    }
   ],
   "source": [
    "# Check duplicates before 'id' \n",
    "\n",
    "df.duplicated().sum()"
   ]
  },
  {
   "cell_type": "code",
   "execution_count": 71,
   "id": "eb8d1c82",
   "metadata": {
    "colab": {
     "base_uri": "https://localhost:8080/",
     "height": 0
    },
    "id": "eb8d1c82",
    "outputId": "7fd4697a-470a-4de9-962d-eead3400f975"
   },
   "outputs": [
    {
     "data": {
      "text/plain": [
       "0"
      ]
     },
     "execution_count": 71,
     "metadata": {},
     "output_type": "execute_result"
    }
   ],
   "source": [
    "# Checking null values \n",
    "\n",
    "df.isnull().sum().sum()"
   ]
  },
  {
   "cell_type": "code",
   "execution_count": 72,
   "id": "a88c391a",
   "metadata": {
    "colab": {
     "base_uri": "https://localhost:8080/",
     "height": 0
    },
    "id": "a88c391a",
    "outputId": "271831ca-021a-4ec1-95f5-bc5cf3eed686"
   },
   "outputs": [
    {
     "data": {
      "text/plain": [
       "Index(['id', 'age', 'gender', 'height', 'weight', 'ap_hi', 'ap_lo',\n",
       "       'cholesterol', 'gluc', 'smoke', 'alco', 'active', 'cardio'],\n",
       "      dtype='object')"
      ]
     },
     "execution_count": 72,
     "metadata": {},
     "output_type": "execute_result"
    }
   ],
   "source": [
    "#Show column names\n",
    "\n",
    "df.columns"
   ]
  },
  {
   "cell_type": "code",
   "execution_count": 73,
   "id": "1f5288c3",
   "metadata": {
    "id": "1f5288c3"
   },
   "outputs": [],
   "source": [
    "# Drop the id column \n",
    "\n",
    "df.drop('id', axis=1, inplace=True)"
   ]
  },
  {
   "cell_type": "code",
   "execution_count": 74,
   "id": "f3524b46",
   "metadata": {
    "id": "f3524b46"
   },
   "outputs": [],
   "source": [
    "# Rename columns\n",
    "\n",
    "df.rename(columns={'ap_hi': 'systolic_bp', 'ap_lo': 'diastolic_bp' ,'gluc':'glucose','alco':'alcohol', 'cardio':'disease'}, inplace=True)"
   ]
  },
  {
   "cell_type": "code",
   "execution_count": 75,
   "id": "bd20323d",
   "metadata": {
    "id": "bd20323d",
    "scrolled": true
   },
   "outputs": [],
   "source": [
    "# convert the num Categories into object to convert it to dummies letter.\n",
    "\n",
    "df['gender'].replace(to_replace=[1, 2],value=['women','man'], inplace=True)\n",
    "df['cholesterol'].replace(to_replace=[1, 2,3],value=['normal',' above_normal','well_above_normal'], inplace=True)\n",
    "df['glucose'].replace(to_replace=[1, 2,3],value=['normal',' above_normal','well_above_normal'], inplace=True)\n"
   ]
  },
  {
   "cell_type": "code",
   "execution_count": 76,
   "id": "45a4b04f",
   "metadata": {
    "id": "45a4b04f"
   },
   "outputs": [],
   "source": [
    "# convert the age from days to years\n",
    "\n",
    "df['age'] = round(df['age'] / 365,1)"
   ]
  },
  {
   "cell_type": "code",
   "execution_count": 77,
   "id": "c92f5ff1",
   "metadata": {
    "colab": {
     "base_uri": "https://localhost:8080/",
     "height": 0
    },
    "id": "c92f5ff1",
    "outputId": "6f38c7bf-eb90-40fd-bc49-41745a10320c"
   },
   "outputs": [
    {
     "data": {
      "text/plain": [
       "665"
      ]
     },
     "execution_count": 77,
     "metadata": {},
     "output_type": "execute_result"
    }
   ],
   "source": [
    "# Check d# Check duplicates after we removed the 'id'\n",
    "\n",
    "df.duplicated().sum()"
   ]
  },
  {
   "cell_type": "code",
   "execution_count": 78,
   "id": "8c50e412",
   "metadata": {
    "id": "8c50e412"
   },
   "outputs": [],
   "source": [
    "# remove the duplicates\n",
    "\n",
    "df.drop_duplicates(inplace=True)"
   ]
  },
  {
   "cell_type": "markdown",
   "id": "e5ea53b9",
   "metadata": {
    "id": "e5ea53b9"
   },
   "source": [
    "## Feature Engineering"
   ]
  },
  {
   "cell_type": "code",
   "execution_count": 79,
   "id": "adf65180",
   "metadata": {
    "id": "adf65180"
   },
   "outputs": [],
   "source": [
    "### feature  1: BMI measure of body fat based on height and weight\n",
    "\n",
    "df['BMI'] = (df['weight'] / (df['height']/100)**2)"
   ]
  },
  {
   "cell_type": "code",
   "execution_count": 80,
   "id": "f437b3d1",
   "metadata": {
    "id": "f437b3d1"
   },
   "outputs": [],
   "source": [
    "# put BMI into category maybe we use it later\n",
    "\n",
    "df.loc[(df[\"BMI\"])<18.5, \"BMI_class\"] = \"underweight\"\n",
    "df.loc[(df[\"BMI\"]>=18.5) & (df[\"BMI\"]<=24.9), \"BMI_class\"] = \"Normal\"\n",
    "df.loc[(df[\"BMI\"]>=25)&(df[\"BMI\"]<=29.9), \"BMI_class\"] = \"Overweight\"\n",
    "df.loc[(df[\"BMI\"]>=30)&(df[\"BMI\"]<=34.9), \"BMI_class\"] = \"obese\"\n",
    "df.loc[(df[\"BMI\"])>=35, \"BMI_class\"] = \"extrem obese\""
   ]
  },
  {
   "cell_type": "code",
   "execution_count": 81,
   "id": "2af86031",
   "metadata": {
    "id": "2af86031"
   },
   "outputs": [],
   "source": [
    "# feature 2: ratio between systolic blood pressure and diastolic blood pressure\n",
    " \n",
    "df['ratio_S/D']=df['diastolic_bp']/df['systolic_bp']"
   ]
  },
  {
   "cell_type": "code",
   "execution_count": 82,
   "id": "9737b7cd",
   "metadata": {
    "id": "9737b7cd"
   },
   "outputs": [],
   "source": [
    "#feature 3: Relationship of pressure with weight \n",
    "\n",
    "df['ratio_(S/D)/Weight']=df['weight']*df['ratio_S/D']"
   ]
  },
  {
   "cell_type": "code",
   "execution_count": 83,
   "id": "099550c2",
   "metadata": {
    "id": "099550c2"
   },
   "outputs": [],
   "source": [
    "# feature 4: if he do all the wrong practices give it 1 otherwise 0\n",
    "\n",
    "y=[]\n",
    "df['relation_wp']=( (df.smoke==1)&(df.alcohol==1)&(df.active==0))\n",
    "for i in df['relation_wp']:\n",
    "    if i==True:\n",
    "        y.append(1)\n",
    "    else:\n",
    "        y.append(0)\n",
    "\n",
    "df['relation_wp']=y"
   ]
  },
  {
   "cell_type": "code",
   "execution_count": 84,
   "id": "b8cf24da",
   "metadata": {
    "id": "b8cf24da"
   },
   "outputs": [],
   "source": [
    "# feature 5: age classification\n",
    "\n",
    "df.loc[(df[\"age\"] < 18), \"age_class\"] = \"Young\"\n",
    "df.loc[(df[\"age\"] > 18) & (df[\"age\"] < 56), \"age_class\"] = \"Mature\"\n",
    "df.loc[(df[\"age\"] >= 56), \"age_class\"] = \"Old\""
   ]
  },
  {
   "cell_type": "code",
   "execution_count": 85,
   "id": "f0914fc0",
   "metadata": {
    "id": "f0914fc0"
   },
   "outputs": [],
   "source": [
    "# feature 6: blood_pressure classification\n",
    "\n",
    "df.loc[(df[\"diastolic_bp\"])<=89, \"bp_class\"] = \"normal\"\n",
    "df.loc[(df[\"diastolic_bp\"])>=90, \"bp_class\"] = \"hyper\"\n",
    "df.loc[(df[\"systolic_bp\"])<=120, \"bp_class\"] = \"normal\"\n",
    "df.loc[(df[\"systolic_bp\"])>120, \"bp_class\"] = \"normal\"\n",
    "df.loc[(df[\"systolic_bp\"])>=140, \"bp_class\"] = \"hyper\""
   ]
  },
  {
   "cell_type": "code",
   "execution_count": 86,
   "id": "3f848a20",
   "metadata": {
    "colab": {
     "base_uri": "https://localhost:8080/",
     "height": 0
    },
    "id": "3f848a20",
    "outputId": "aac0ae59-1b3b-4632-fbf6-3cadef82c9cb"
   },
   "outputs": [
    {
     "data": {
      "text/html": [
       "<div>\n",
       "<style scoped>\n",
       "    .dataframe tbody tr th:only-of-type {\n",
       "        vertical-align: middle;\n",
       "    }\n",
       "\n",
       "    .dataframe tbody tr th {\n",
       "        vertical-align: top;\n",
       "    }\n",
       "\n",
       "    .dataframe thead th {\n",
       "        text-align: right;\n",
       "    }\n",
       "</style>\n",
       "<table border=\"1\" class=\"dataframe\">\n",
       "  <thead>\n",
       "    <tr style=\"text-align: right;\">\n",
       "      <th></th>\n",
       "      <th>age</th>\n",
       "      <th>height</th>\n",
       "      <th>weight</th>\n",
       "      <th>systolic_bp</th>\n",
       "      <th>diastolic_bp</th>\n",
       "      <th>smoke</th>\n",
       "      <th>alcohol</th>\n",
       "      <th>active</th>\n",
       "      <th>disease</th>\n",
       "      <th>BMI</th>\n",
       "      <th>ratio_S/D</th>\n",
       "      <th>ratio_(S/D)/Weight</th>\n",
       "      <th>relation_wp</th>\n",
       "    </tr>\n",
       "  </thead>\n",
       "  <tbody>\n",
       "    <tr>\n",
       "      <th>count</th>\n",
       "      <td>69335.000000</td>\n",
       "      <td>69335.000000</td>\n",
       "      <td>69335.000000</td>\n",
       "      <td>69335.000000</td>\n",
       "      <td>69335.000000</td>\n",
       "      <td>69335.000000</td>\n",
       "      <td>69335.000000</td>\n",
       "      <td>69335.000000</td>\n",
       "      <td>69335.000000</td>\n",
       "      <td>69335.000000</td>\n",
       "      <td>69335.000000</td>\n",
       "      <td>69335.000000</td>\n",
       "      <td>69335.000000</td>\n",
       "    </tr>\n",
       "    <tr>\n",
       "      <th>mean</th>\n",
       "      <td>53.341095</td>\n",
       "      <td>164.359847</td>\n",
       "      <td>74.280151</td>\n",
       "      <td>128.898536</td>\n",
       "      <td>96.791505</td>\n",
       "      <td>0.088931</td>\n",
       "      <td>0.054287</td>\n",
       "      <td>0.802639</td>\n",
       "      <td>0.502243</td>\n",
       "      <td>27.584710</td>\n",
       "      <td>0.807821</td>\n",
       "      <td>60.203650</td>\n",
       "      <td>0.004067</td>\n",
       "    </tr>\n",
       "    <tr>\n",
       "      <th>std</th>\n",
       "      <td>6.769497</td>\n",
       "      <td>8.238111</td>\n",
       "      <td>14.429928</td>\n",
       "      <td>154.745442</td>\n",
       "      <td>189.366796</td>\n",
       "      <td>0.284646</td>\n",
       "      <td>0.226585</td>\n",
       "      <td>0.398010</td>\n",
       "      <td>0.499999</td>\n",
       "      <td>6.109642</td>\n",
       "      <td>9.043818</td>\n",
       "      <td>608.111962</td>\n",
       "      <td>0.063645</td>\n",
       "    </tr>\n",
       "    <tr>\n",
       "      <th>min</th>\n",
       "      <td>29.600000</td>\n",
       "      <td>55.000000</td>\n",
       "      <td>10.000000</td>\n",
       "      <td>-150.000000</td>\n",
       "      <td>-70.000000</td>\n",
       "      <td>0.000000</td>\n",
       "      <td>0.000000</td>\n",
       "      <td>0.000000</td>\n",
       "      <td>0.000000</td>\n",
       "      <td>3.471784</td>\n",
       "      <td>-4.666667</td>\n",
       "      <td>-345.333333</td>\n",
       "      <td>0.000000</td>\n",
       "    </tr>\n",
       "    <tr>\n",
       "      <th>25%</th>\n",
       "      <td>48.400000</td>\n",
       "      <td>159.000000</td>\n",
       "      <td>65.000000</td>\n",
       "      <td>120.000000</td>\n",
       "      <td>80.000000</td>\n",
       "      <td>0.000000</td>\n",
       "      <td>0.000000</td>\n",
       "      <td>1.000000</td>\n",
       "      <td>0.000000</td>\n",
       "      <td>23.875115</td>\n",
       "      <td>0.615385</td>\n",
       "      <td>41.333333</td>\n",
       "      <td>0.000000</td>\n",
       "    </tr>\n",
       "    <tr>\n",
       "      <th>50%</th>\n",
       "      <td>54.000000</td>\n",
       "      <td>165.000000</td>\n",
       "      <td>72.000000</td>\n",
       "      <td>120.000000</td>\n",
       "      <td>80.000000</td>\n",
       "      <td>0.000000</td>\n",
       "      <td>0.000000</td>\n",
       "      <td>1.000000</td>\n",
       "      <td>1.000000</td>\n",
       "      <td>26.438071</td>\n",
       "      <td>0.666667</td>\n",
       "      <td>46.666667</td>\n",
       "      <td>0.000000</td>\n",
       "    </tr>\n",
       "    <tr>\n",
       "      <th>75%</th>\n",
       "      <td>58.400000</td>\n",
       "      <td>170.000000</td>\n",
       "      <td>82.000000</td>\n",
       "      <td>140.000000</td>\n",
       "      <td>90.000000</td>\n",
       "      <td>0.000000</td>\n",
       "      <td>0.000000</td>\n",
       "      <td>1.000000</td>\n",
       "      <td>1.000000</td>\n",
       "      <td>30.330215</td>\n",
       "      <td>0.666667</td>\n",
       "      <td>53.611264</td>\n",
       "      <td>0.000000</td>\n",
       "    </tr>\n",
       "    <tr>\n",
       "      <th>max</th>\n",
       "      <td>65.000000</td>\n",
       "      <td>250.000000</td>\n",
       "      <td>200.000000</td>\n",
       "      <td>16020.000000</td>\n",
       "      <td>11000.000000</td>\n",
       "      <td>1.000000</td>\n",
       "      <td>1.000000</td>\n",
       "      <td>1.000000</td>\n",
       "      <td>1.000000</td>\n",
       "      <td>298.666667</td>\n",
       "      <td>2088.000000</td>\n",
       "      <td>131544.000000</td>\n",
       "      <td>1.000000</td>\n",
       "    </tr>\n",
       "  </tbody>\n",
       "</table>\n",
       "</div>"
      ],
      "text/plain": [
       "                age        height        weight   systolic_bp  diastolic_bp  \\\n",
       "count  69335.000000  69335.000000  69335.000000  69335.000000  69335.000000   \n",
       "mean      53.341095    164.359847     74.280151    128.898536     96.791505   \n",
       "std        6.769497      8.238111     14.429928    154.745442    189.366796   \n",
       "min       29.600000     55.000000     10.000000   -150.000000    -70.000000   \n",
       "25%       48.400000    159.000000     65.000000    120.000000     80.000000   \n",
       "50%       54.000000    165.000000     72.000000    120.000000     80.000000   \n",
       "75%       58.400000    170.000000     82.000000    140.000000     90.000000   \n",
       "max       65.000000    250.000000    200.000000  16020.000000  11000.000000   \n",
       "\n",
       "              smoke       alcohol        active       disease           BMI  \\\n",
       "count  69335.000000  69335.000000  69335.000000  69335.000000  69335.000000   \n",
       "mean       0.088931      0.054287      0.802639      0.502243     27.584710   \n",
       "std        0.284646      0.226585      0.398010      0.499999      6.109642   \n",
       "min        0.000000      0.000000      0.000000      0.000000      3.471784   \n",
       "25%        0.000000      0.000000      1.000000      0.000000     23.875115   \n",
       "50%        0.000000      0.000000      1.000000      1.000000     26.438071   \n",
       "75%        0.000000      0.000000      1.000000      1.000000     30.330215   \n",
       "max        1.000000      1.000000      1.000000      1.000000    298.666667   \n",
       "\n",
       "          ratio_S/D  ratio_(S/D)/Weight   relation_wp  \n",
       "count  69335.000000        69335.000000  69335.000000  \n",
       "mean       0.807821           60.203650      0.004067  \n",
       "std        9.043818          608.111962      0.063645  \n",
       "min       -4.666667         -345.333333      0.000000  \n",
       "25%        0.615385           41.333333      0.000000  \n",
       "50%        0.666667           46.666667      0.000000  \n",
       "75%        0.666667           53.611264      0.000000  \n",
       "max     2088.000000       131544.000000      1.000000  "
      ]
     },
     "execution_count": 86,
     "metadata": {},
     "output_type": "execute_result"
    }
   ],
   "source": [
    "df.describe()"
   ]
  },
  {
   "cell_type": "markdown",
   "id": "cbc505df",
   "metadata": {
    "id": "cbc505df"
   },
   "source": [
    "## Get Dummies"
   ]
  },
  {
   "cell_type": "code",
   "execution_count": 87,
   "id": "62553d0a",
   "metadata": {
    "id": "62553d0a"
   },
   "outputs": [],
   "source": [
    "df=pd.get_dummies(df,drop_first=True)"
   ]
  },
  {
   "cell_type": "code",
   "execution_count": 88,
   "id": "e9788d2d",
   "metadata": {
    "id": "e9788d2d"
   },
   "outputs": [],
   "source": [
    "# save the clean file \n",
    "\n",
    "df.to_csv('Data.Clean.csv')"
   ]
  },
  {
   "cell_type": "markdown",
   "id": "54eceb55",
   "metadata": {
    "id": "54eceb55"
   },
   "source": [
    "## build metrics"
   ]
  },
  {
   "cell_type": "code",
   "execution_count": 89,
   "id": "16d0d9ed",
   "metadata": {
    "id": "16d0d9ed"
   },
   "outputs": [],
   "source": [
    "# befor start modeling we will build function for metrics\n",
    "\n",
    "from sklearn import metrics\n",
    "from sklearn.metrics import accuracy_score,f1_score,precision_score,recall_score,roc_auc_score\n",
    "\n",
    "\n",
    "def My_metrics(y_test,y_pred):\n",
    "    print(f'Accuracy:    {accuracy_score(y_test, y_pred)}\\n') \n",
    "    print(f'F1 Score:    {f1_score(y_test, y_pred)}\\n')\n",
    "    print(f'Recall:      {precision_score(y_test, y_pred)}\\n') \n",
    "    print(f'Precision:   {recall_score(y_test, y_pred)}\\n' )"
   ]
  },
  {
   "cell_type": "code",
   "execution_count": 90,
   "id": "9f3daf28",
   "metadata": {
    "colab": {
     "base_uri": "https://localhost:8080/",
     "height": 0
    },
    "id": "9f3daf28",
    "outputId": "170abfeb-85a2-4760-af2b-90a1463c5761"
   },
   "outputs": [
    {
     "data": {
      "text/plain": [
       "Index(['age', 'height', 'weight', 'systolic_bp', 'diastolic_bp', 'smoke',\n",
       "       'alcohol', 'active', 'disease', 'BMI', 'ratio_S/D',\n",
       "       'ratio_(S/D)/Weight', 'relation_wp', 'gender_women',\n",
       "       'cholesterol_normal', 'cholesterol_well_above_normal', 'glucose_normal',\n",
       "       'glucose_well_above_normal', 'BMI_class_Overweight',\n",
       "       'BMI_class_extrem obese', 'BMI_class_obese', 'BMI_class_underweight',\n",
       "       'age_class_Old', 'bp_class_normal'],\n",
       "      dtype='object')"
      ]
     },
     "execution_count": 90,
     "metadata": {},
     "output_type": "execute_result"
    }
   ],
   "source": [
    "df.columns"
   ]
  },
  {
   "cell_type": "markdown",
   "id": "776765e0",
   "metadata": {
    "id": "776765e0"
   },
   "source": [
    "## Beasline model"
   ]
  },
  {
   "cell_type": "code",
   "execution_count": 91,
   "id": "4408a58e",
   "metadata": {
    "id": "4408a58e"
   },
   "outputs": [],
   "source": [
    "## beasline without the features Engineering\n",
    "\n",
    "x = df.drop(df[['disease','BMI', 'ratio_S/D', 'ratio_(S/D)/Weight','relation_wp','BMI_class_Overweight',\n",
    "       'BMI_class_extrem obese', 'BMI_class_obese', 'BMI_class_underweight',\n",
    "       'age_class_Old', 'bp_class_normal']],axis=1)\n",
    "y = df[['disease']]\n",
    "\n",
    "from sklearn.model_selection import train_test_split\n",
    "\n",
    "x_train,x_test,y_train,y_test= train_test_split(x,y ,test_size=0.05, random_state=42)\n",
    "x_train,x_val,y_train,y_val= train_test_split(x_train,y_train ,test_size=0.05, random_state=42)\n"
   ]
  },
  {
   "cell_type": "code",
   "execution_count": 92,
   "id": "7fae8e39",
   "metadata": {
    "colab": {
     "base_uri": "https://localhost:8080/",
     "height": 0
    },
    "id": "7fae8e39",
    "outputId": "3c9790b5-08ba-4b68-d426-e3b6658ed34f"
   },
   "outputs": [
    {
     "data": {
      "text/plain": [
       "0.7094320324735514"
      ]
     },
     "execution_count": 92,
     "metadata": {},
     "output_type": "execute_result"
    }
   ],
   "source": [
    "from sklearn.linear_model import LogisticRegression\n",
    "\n",
    "lr =LogisticRegression()\n",
    "lr.fit(x_train,y_train)\n",
    "lr.score(x_train,y_train)"
   ]
  },
  {
   "cell_type": "code",
   "execution_count": 93,
   "id": "53d9044e",
   "metadata": {
    "colab": {
     "base_uri": "https://localhost:8080/",
     "height": 0
    },
    "id": "53d9044e",
    "outputId": "24813752-e624-49df-9d92-e82fda42844a"
   },
   "outputs": [
    {
     "name": "stdout",
     "output_type": "stream",
     "text": [
      "Accuracy:    0.6933819064966606\n",
      "\n",
      "F1 Score:    0.6779336734693877\n",
      "\n",
      "Recall:      0.7016501650165017\n",
      "\n",
      "Precision:   0.6557680444170265\n",
      "\n"
     ]
    }
   ],
   "source": [
    "y_pred=lr.predict(x_val)\n",
    "My_metrics(y_val,y_pred)"
   ]
  },
  {
   "cell_type": "markdown",
   "id": "43723547",
   "metadata": {
    "id": "43723547"
   },
   "source": [
    "##  Split the data into a test and training sets"
   ]
  },
  {
   "cell_type": "code",
   "execution_count": 94,
   "id": "9ad8d10c",
   "metadata": {
    "id": "9ad8d10c"
   },
   "outputs": [],
   "source": [
    "## split dataset into train and test\n",
    "\n",
    "x = df.drop('disease',axis=1)\n",
    "y = df[['disease']]\n",
    "\n",
    "\n",
    "x_train,x_test,y_train,y_test= train_test_split(x,y ,test_size=0.05, random_state=42)\n",
    "x_train,x_val,y_train,y_val= train_test_split(x_train,y_train ,test_size=0.05, random_state=42)"
   ]
  },
  {
   "cell_type": "code",
   "execution_count": 95,
   "id": "fce59f36",
   "metadata": {
    "id": "fce59f36"
   },
   "outputs": [],
   "source": [
    "# for cleaning the the trian set form the outliers and explorat the data we will concat the x_train and y_train\n",
    "\n",
    "train = pd.concat([x_train, y_train],axis=1)"
   ]
  },
  {
   "cell_type": "markdown",
   "id": "3c9c1dd8",
   "metadata": {
    "id": "3c9c1dd8"
   },
   "source": [
    "### Remove outlire\n"
   ]
  },
  {
   "cell_type": "code",
   "execution_count": 96,
   "id": "f64aec0f",
   "metadata": {
    "colab": {
     "base_uri": "https://localhost:8080/",
     "height": 0
    },
    "id": "f64aec0f",
    "outputId": "2046163a-6ca9-44a3-ec13-3e28b32e556e"
   },
   "outputs": [
    {
     "data": {
      "text/html": [
       "<div>\n",
       "<style scoped>\n",
       "    .dataframe tbody tr th:only-of-type {\n",
       "        vertical-align: middle;\n",
       "    }\n",
       "\n",
       "    .dataframe tbody tr th {\n",
       "        vertical-align: top;\n",
       "    }\n",
       "\n",
       "    .dataframe thead th {\n",
       "        text-align: right;\n",
       "    }\n",
       "</style>\n",
       "<table border=\"1\" class=\"dataframe\">\n",
       "  <thead>\n",
       "    <tr style=\"text-align: right;\">\n",
       "      <th></th>\n",
       "      <th>age</th>\n",
       "      <th>height</th>\n",
       "      <th>weight</th>\n",
       "      <th>systolic_bp</th>\n",
       "      <th>diastolic_bp</th>\n",
       "      <th>smoke</th>\n",
       "      <th>alcohol</th>\n",
       "      <th>active</th>\n",
       "      <th>BMI</th>\n",
       "      <th>ratio_S/D</th>\n",
       "      <th>...</th>\n",
       "      <th>cholesterol_well_above_normal</th>\n",
       "      <th>glucose_normal</th>\n",
       "      <th>glucose_well_above_normal</th>\n",
       "      <th>BMI_class_Overweight</th>\n",
       "      <th>BMI_class_extrem obese</th>\n",
       "      <th>BMI_class_obese</th>\n",
       "      <th>BMI_class_underweight</th>\n",
       "      <th>age_class_Old</th>\n",
       "      <th>bp_class_normal</th>\n",
       "      <th>disease</th>\n",
       "    </tr>\n",
       "  </thead>\n",
       "  <tbody>\n",
       "    <tr>\n",
       "      <th>count</th>\n",
       "      <td>62574.000000</td>\n",
       "      <td>62574.000000</td>\n",
       "      <td>62574.000000</td>\n",
       "      <td>62574.000000</td>\n",
       "      <td>62574.000000</td>\n",
       "      <td>62574.00000</td>\n",
       "      <td>62574.000000</td>\n",
       "      <td>62574.000000</td>\n",
       "      <td>62574.000000</td>\n",
       "      <td>62574.000000</td>\n",
       "      <td>...</td>\n",
       "      <td>62574.000000</td>\n",
       "      <td>62574.000000</td>\n",
       "      <td>62574.000000</td>\n",
       "      <td>62574.000000</td>\n",
       "      <td>62574.000000</td>\n",
       "      <td>62574.000000</td>\n",
       "      <td>62574.000000</td>\n",
       "      <td>62574.000000</td>\n",
       "      <td>62574.000000</td>\n",
       "      <td>62574.000000</td>\n",
       "    </tr>\n",
       "    <tr>\n",
       "      <th>mean</th>\n",
       "      <td>53.346222</td>\n",
       "      <td>164.365439</td>\n",
       "      <td>74.303283</td>\n",
       "      <td>128.939240</td>\n",
       "      <td>97.148880</td>\n",
       "      <td>0.08967</td>\n",
       "      <td>0.054543</td>\n",
       "      <td>0.803257</td>\n",
       "      <td>27.593839</td>\n",
       "      <td>0.780944</td>\n",
       "      <td>...</td>\n",
       "      <td>0.116614</td>\n",
       "      <td>0.848867</td>\n",
       "      <td>0.076821</td>\n",
       "      <td>0.358280</td>\n",
       "      <td>0.090165</td>\n",
       "      <td>0.174497</td>\n",
       "      <td>0.009397</td>\n",
       "      <td>0.396762</td>\n",
       "      <td>0.719804</td>\n",
       "      <td>0.502669</td>\n",
       "    </tr>\n",
       "    <tr>\n",
       "      <th>std</th>\n",
       "      <td>6.769563</td>\n",
       "      <td>8.269887</td>\n",
       "      <td>14.455165</td>\n",
       "      <td>152.950807</td>\n",
       "      <td>193.761632</td>\n",
       "      <td>0.28571</td>\n",
       "      <td>0.227089</td>\n",
       "      <td>0.397540</td>\n",
       "      <td>6.165064</td>\n",
       "      <td>4.568875</td>\n",
       "      <td>...</td>\n",
       "      <td>0.320962</td>\n",
       "      <td>0.358181</td>\n",
       "      <td>0.266309</td>\n",
       "      <td>0.479499</td>\n",
       "      <td>0.286421</td>\n",
       "      <td>0.379540</td>\n",
       "      <td>0.096482</td>\n",
       "      <td>0.489230</td>\n",
       "      <td>0.449099</td>\n",
       "      <td>0.499997</td>\n",
       "    </tr>\n",
       "    <tr>\n",
       "      <th>min</th>\n",
       "      <td>29.600000</td>\n",
       "      <td>55.000000</td>\n",
       "      <td>10.000000</td>\n",
       "      <td>-150.000000</td>\n",
       "      <td>-70.000000</td>\n",
       "      <td>0.00000</td>\n",
       "      <td>0.000000</td>\n",
       "      <td>0.000000</td>\n",
       "      <td>3.471784</td>\n",
       "      <td>-4.666667</td>\n",
       "      <td>...</td>\n",
       "      <td>0.000000</td>\n",
       "      <td>0.000000</td>\n",
       "      <td>0.000000</td>\n",
       "      <td>0.000000</td>\n",
       "      <td>0.000000</td>\n",
       "      <td>0.000000</td>\n",
       "      <td>0.000000</td>\n",
       "      <td>0.000000</td>\n",
       "      <td>0.000000</td>\n",
       "      <td>0.000000</td>\n",
       "    </tr>\n",
       "    <tr>\n",
       "      <th>25%</th>\n",
       "      <td>48.400000</td>\n",
       "      <td>159.000000</td>\n",
       "      <td>65.000000</td>\n",
       "      <td>120.000000</td>\n",
       "      <td>80.000000</td>\n",
       "      <td>0.00000</td>\n",
       "      <td>0.000000</td>\n",
       "      <td>1.000000</td>\n",
       "      <td>23.875115</td>\n",
       "      <td>0.615385</td>\n",
       "      <td>...</td>\n",
       "      <td>0.000000</td>\n",
       "      <td>1.000000</td>\n",
       "      <td>0.000000</td>\n",
       "      <td>0.000000</td>\n",
       "      <td>0.000000</td>\n",
       "      <td>0.000000</td>\n",
       "      <td>0.000000</td>\n",
       "      <td>0.000000</td>\n",
       "      <td>0.000000</td>\n",
       "      <td>0.000000</td>\n",
       "    </tr>\n",
       "    <tr>\n",
       "      <th>50%</th>\n",
       "      <td>54.000000</td>\n",
       "      <td>165.000000</td>\n",
       "      <td>72.000000</td>\n",
       "      <td>120.000000</td>\n",
       "      <td>80.000000</td>\n",
       "      <td>0.00000</td>\n",
       "      <td>0.000000</td>\n",
       "      <td>1.000000</td>\n",
       "      <td>26.438071</td>\n",
       "      <td>0.666667</td>\n",
       "      <td>...</td>\n",
       "      <td>0.000000</td>\n",
       "      <td>1.000000</td>\n",
       "      <td>0.000000</td>\n",
       "      <td>0.000000</td>\n",
       "      <td>0.000000</td>\n",
       "      <td>0.000000</td>\n",
       "      <td>0.000000</td>\n",
       "      <td>0.000000</td>\n",
       "      <td>1.000000</td>\n",
       "      <td>1.000000</td>\n",
       "    </tr>\n",
       "    <tr>\n",
       "      <th>75%</th>\n",
       "      <td>58.400000</td>\n",
       "      <td>170.000000</td>\n",
       "      <td>82.000000</td>\n",
       "      <td>140.000000</td>\n",
       "      <td>90.000000</td>\n",
       "      <td>0.00000</td>\n",
       "      <td>0.000000</td>\n",
       "      <td>1.000000</td>\n",
       "      <td>30.350330</td>\n",
       "      <td>0.666667</td>\n",
       "      <td>...</td>\n",
       "      <td>0.000000</td>\n",
       "      <td>1.000000</td>\n",
       "      <td>0.000000</td>\n",
       "      <td>1.000000</td>\n",
       "      <td>0.000000</td>\n",
       "      <td>0.000000</td>\n",
       "      <td>0.000000</td>\n",
       "      <td>1.000000</td>\n",
       "      <td>1.000000</td>\n",
       "      <td>1.000000</td>\n",
       "    </tr>\n",
       "    <tr>\n",
       "      <th>max</th>\n",
       "      <td>65.000000</td>\n",
       "      <td>250.000000</td>\n",
       "      <td>200.000000</td>\n",
       "      <td>16020.000000</td>\n",
       "      <td>11000.000000</td>\n",
       "      <td>1.00000</td>\n",
       "      <td>1.000000</td>\n",
       "      <td>1.000000</td>\n",
       "      <td>298.666667</td>\n",
       "      <td>1088.000000</td>\n",
       "      <td>...</td>\n",
       "      <td>1.000000</td>\n",
       "      <td>1.000000</td>\n",
       "      <td>1.000000</td>\n",
       "      <td>1.000000</td>\n",
       "      <td>1.000000</td>\n",
       "      <td>1.000000</td>\n",
       "      <td>1.000000</td>\n",
       "      <td>1.000000</td>\n",
       "      <td>1.000000</td>\n",
       "      <td>1.000000</td>\n",
       "    </tr>\n",
       "  </tbody>\n",
       "</table>\n",
       "<p>8 rows × 24 columns</p>\n",
       "</div>"
      ],
      "text/plain": [
       "                age        height        weight   systolic_bp  diastolic_bp  \\\n",
       "count  62574.000000  62574.000000  62574.000000  62574.000000  62574.000000   \n",
       "mean      53.346222    164.365439     74.303283    128.939240     97.148880   \n",
       "std        6.769563      8.269887     14.455165    152.950807    193.761632   \n",
       "min       29.600000     55.000000     10.000000   -150.000000    -70.000000   \n",
       "25%       48.400000    159.000000     65.000000    120.000000     80.000000   \n",
       "50%       54.000000    165.000000     72.000000    120.000000     80.000000   \n",
       "75%       58.400000    170.000000     82.000000    140.000000     90.000000   \n",
       "max       65.000000    250.000000    200.000000  16020.000000  11000.000000   \n",
       "\n",
       "             smoke       alcohol        active           BMI     ratio_S/D  \\\n",
       "count  62574.00000  62574.000000  62574.000000  62574.000000  62574.000000   \n",
       "mean       0.08967      0.054543      0.803257     27.593839      0.780944   \n",
       "std        0.28571      0.227089      0.397540      6.165064      4.568875   \n",
       "min        0.00000      0.000000      0.000000      3.471784     -4.666667   \n",
       "25%        0.00000      0.000000      1.000000     23.875115      0.615385   \n",
       "50%        0.00000      0.000000      1.000000     26.438071      0.666667   \n",
       "75%        0.00000      0.000000      1.000000     30.350330      0.666667   \n",
       "max        1.00000      1.000000      1.000000    298.666667   1088.000000   \n",
       "\n",
       "       ...  cholesterol_well_above_normal  glucose_normal  \\\n",
       "count  ...                   62574.000000    62574.000000   \n",
       "mean   ...                       0.116614        0.848867   \n",
       "std    ...                       0.320962        0.358181   \n",
       "min    ...                       0.000000        0.000000   \n",
       "25%    ...                       0.000000        1.000000   \n",
       "50%    ...                       0.000000        1.000000   \n",
       "75%    ...                       0.000000        1.000000   \n",
       "max    ...                       1.000000        1.000000   \n",
       "\n",
       "       glucose_well_above_normal  BMI_class_Overweight  \\\n",
       "count               62574.000000          62574.000000   \n",
       "mean                    0.076821              0.358280   \n",
       "std                     0.266309              0.479499   \n",
       "min                     0.000000              0.000000   \n",
       "25%                     0.000000              0.000000   \n",
       "50%                     0.000000              0.000000   \n",
       "75%                     0.000000              1.000000   \n",
       "max                     1.000000              1.000000   \n",
       "\n",
       "       BMI_class_extrem obese  BMI_class_obese  BMI_class_underweight  \\\n",
       "count            62574.000000     62574.000000           62574.000000   \n",
       "mean                 0.090165         0.174497               0.009397   \n",
       "std                  0.286421         0.379540               0.096482   \n",
       "min                  0.000000         0.000000               0.000000   \n",
       "25%                  0.000000         0.000000               0.000000   \n",
       "50%                  0.000000         0.000000               0.000000   \n",
       "75%                  0.000000         0.000000               0.000000   \n",
       "max                  1.000000         1.000000               1.000000   \n",
       "\n",
       "       age_class_Old  bp_class_normal       disease  \n",
       "count   62574.000000     62574.000000  62574.000000  \n",
       "mean        0.396762         0.719804      0.502669  \n",
       "std         0.489230         0.449099      0.499997  \n",
       "min         0.000000         0.000000      0.000000  \n",
       "25%         0.000000         0.000000      0.000000  \n",
       "50%         0.000000         1.000000      1.000000  \n",
       "75%         1.000000         1.000000      1.000000  \n",
       "max         1.000000         1.000000      1.000000  \n",
       "\n",
       "[8 rows x 24 columns]"
      ]
     },
     "execution_count": 96,
     "metadata": {},
     "output_type": "execute_result"
    }
   ],
   "source": [
    "# Statistic Overview\n",
    "train.describe()"
   ]
  },
  {
   "cell_type": "markdown",
   "id": "7b752d39",
   "metadata": {
    "id": "7b752d39"
   },
   "source": [
    "#### Comment: as is shown in the above describe there are some outlirs value in the ( height, weight, systolic, diastolic ) columns\n",
    "\n",
    "#### So i want to make sure that the outliers affected on the target or not?"
   ]
  },
  {
   "cell_type": "code",
   "execution_count": 97,
   "id": "24fb82f0",
   "metadata": {
    "colab": {
     "base_uri": "https://localhost:8080/",
     "height": 0
    },
    "id": "24fb82f0",
    "outputId": "eb6df595-cf4a-4b5e-993e-5ba4041b64e2"
   },
   "outputs": [
    {
     "name": "stdout",
     "output_type": "stream",
     "text": [
      "82\n",
      "99\n"
     ]
    }
   ],
   "source": [
    "print(len(train[(train.systolic_bp <80) & (train.disease == 1)]))\n",
    "print(len(train[(train.systolic_bp <80) & (train.disease == 0)]))"
   ]
  },
  {
   "cell_type": "code",
   "execution_count": 98,
   "id": "1d4c9348",
   "metadata": {
    "colab": {
     "base_uri": "https://localhost:8080/",
     "height": 0
    },
    "id": "1d4c9348",
    "outputId": "c45be856-f2ee-42e5-bd8f-bc18ef8aa727"
   },
   "outputs": [
    {
     "name": "stdout",
     "output_type": "stream",
     "text": [
      "23\n",
      "15\n"
     ]
    }
   ],
   "source": [
    "print(len(train[(train.systolic_bp >250) & (train.disease == 1)]))\n",
    "print(len(train[(train.systolic_bp >250) & (train.disease == 0)]))"
   ]
  },
  {
   "cell_type": "code",
   "execution_count": 99,
   "id": "cb7896c2",
   "metadata": {
    "colab": {
     "base_uri": "https://localhost:8080/",
     "height": 0
    },
    "id": "cb7896c2",
    "outputId": "1a69d125-8b5b-49a8-eb90-009620c6571b"
   },
   "outputs": [
    {
     "name": "stdout",
     "output_type": "stream",
     "text": [
      "23\n",
      "32\n"
     ]
    }
   ],
   "source": [
    "print(len(train[(train.diastolic_bp <40) & (train.disease == 1)]))\n",
    "print(len(train[(train.diastolic_bp <40) & (train.disease == 0)]))"
   ]
  },
  {
   "cell_type": "code",
   "execution_count": 100,
   "id": "a0921bce",
   "metadata": {
    "colab": {
     "base_uri": "https://localhost:8080/",
     "height": 0
    },
    "id": "a0921bce",
    "outputId": "623514aa-7505-4cf7-e7b9-882337ea3ba1"
   },
   "outputs": [
    {
     "name": "stdout",
     "output_type": "stream",
     "text": [
      "785\n",
      "144\n"
     ]
    }
   ],
   "source": [
    "print(len(train[(train.diastolic_bp >130) & (train.disease == 1)]))\n",
    "print(len(train[(train.diastolic_bp>130) & (train.disease == 0)]))"
   ]
  },
  {
   "cell_type": "markdown",
   "id": "4cbeaa42",
   "metadata": {
    "id": "4cbeaa42"
   },
   "source": [
    "#### Comment: as is shown in the above values there is no big diffrance if the person have the disease or not with outliers on blood pressure \n",
    "\n",
    "#### so we ganna remove the outliers"
   ]
  },
  {
   "cell_type": "code",
   "execution_count": 101,
   "id": "8205424a",
   "metadata": {
    "colab": {
     "base_uri": "https://localhost:8080/",
     "height": 0
    },
    "id": "8205424a",
    "outputId": "38b473ad-df01-4f9f-c48a-fc8f17ea8b26"
   },
   "outputs": [
    {
     "data": {
      "text/plain": [
       "<AxesSubplot:xlabel='systolic_bp'>"
      ]
     },
     "execution_count": 101,
     "metadata": {},
     "output_type": "execute_result"
    },
    {
     "data": {
      "image/png": "[encoded data removed]",
      "text/plain": [
       "<Figure size 432x288 with 1 Axes>"
      ]
     },
     "metadata": {
      "needs_background": "light"
     },
     "output_type": "display_data"
    }
   ],
   "source": [
    "sns.boxplot(train['systolic_bp'])"
   ]
  },
  {
   "cell_type": "code",
   "execution_count": 102,
   "id": "f4ed3809",
   "metadata": {
    "id": "f4ed3809"
   },
   "outputs": [],
   "source": [
    "# Drop some row that contain negative values and values over 250 in because in real life it can not be.\n",
    "\n",
    "train.drop(train[train.systolic_bp <80].index, inplace=True)\n",
    "train.drop(train[train.systolic_bp >250].index, inplace=True)\n"
   ]
  },
  {
   "cell_type": "code",
   "execution_count": 103,
   "id": "dd3fa627",
   "metadata": {
    "colab": {
     "base_uri": "https://localhost:8080/",
     "height": 0
    },
    "id": "dd3fa627",
    "outputId": "cba2f4ef-df25-4c56-da55-e4cc50dbc511"
   },
   "outputs": [
    {
     "data": {
      "text/plain": [
       "<AxesSubplot:xlabel='diastolic_bp'>"
      ]
     },
     "execution_count": 103,
     "metadata": {},
     "output_type": "execute_result"
    },
    {
     "data": {
      "image/png": "[encoded data removed]",
      "text/plain": [
       "<Figure size 432x288 with 1 Axes>"
      ]
     },
     "metadata": {
      "needs_background": "light"
     },
     "output_type": "display_data"
    }
   ],
   "source": [
    "sns.boxplot(train['diastolic_bp'])"
   ]
  },
  {
   "cell_type": "code",
   "execution_count": 104,
   "id": "cea76ade",
   "metadata": {
    "id": "cea76ade"
   },
   "outputs": [],
   "source": [
    "# Drop some row that contain negative values and values over 250 in because in real life it can not be.\n",
    "\n",
    "train.drop(train[train.diastolic_bp <40].index, inplace=True)\n",
    "train.drop(train[train.diastolic_bp >130].index, inplace=True)"
   ]
  },
  {
   "cell_type": "markdown",
   "id": "19c1f7c1",
   "metadata": {
    "id": "19c1f7c1"
   },
   "source": [
    "#### Comment: Checking the outliers on height and weight if they affected on the target or not?"
   ]
  },
  {
   "cell_type": "code",
   "execution_count": 105,
   "id": "44c09769",
   "metadata": {
    "colab": {
     "base_uri": "https://localhost:8080/",
     "height": 0
    },
    "id": "44c09769",
    "outputId": "3feacbb1-7ec3-4151-a703-60a64ac2ee35"
   },
   "outputs": [
    {
     "name": "stdout",
     "output_type": "stream",
     "text": [
      "24\n",
      "23\n"
     ]
    }
   ],
   "source": [
    "print(len(train[(train.height<120)&(train.disease == 1)]))\n",
    "print(len(train[(train.height<120)&(train.disease == 0)]))"
   ]
  },
  {
   "cell_type": "code",
   "execution_count": 106,
   "id": "34c84722",
   "metadata": {
    "colab": {
     "base_uri": "https://localhost:8080/",
     "height": 0
    },
    "id": "34c84722",
    "outputId": "50776b07-e4fb-40c5-ec18-900701077299"
   },
   "outputs": [
    {
     "name": "stdout",
     "output_type": "stream",
     "text": [
      "1\n",
      "0\n"
     ]
    }
   ],
   "source": [
    "print(len(train[(train.height>225)&(train.disease == 1)]))\n",
    "print(len(train[(train.height>225)&(train.disease == 0)]))"
   ]
  },
  {
   "cell_type": "code",
   "execution_count": 107,
   "id": "738798ed",
   "metadata": {
    "colab": {
     "base_uri": "https://localhost:8080/",
     "height": 0
    },
    "id": "738798ed",
    "outputId": "317a6918-742a-4eed-b021-312cfe0ce731"
   },
   "outputs": [
    {
     "name": "stdout",
     "output_type": "stream",
     "text": [
      "16\n",
      "30\n"
     ]
    }
   ],
   "source": [
    "print(len(train[(train.weight<40)&(train.disease == 1)]))\n",
    "print(len(train[(train.weight<40)&(train.disease == 0)]))"
   ]
  },
  {
   "cell_type": "code",
   "execution_count": 108,
   "id": "7a3c8085",
   "metadata": {
    "colab": {
     "base_uri": "https://localhost:8080/",
     "height": 0
    },
    "id": "7a3c8085",
    "outputId": "0f367da4-9223-4284-b1de-11795651b7dd"
   },
   "outputs": [
    {
     "name": "stdout",
     "output_type": "stream",
     "text": [
      "0\n",
      "0\n"
     ]
    }
   ],
   "source": [
    "print(len(train[(train.weight>200)&(train.disease == 1)]))\n",
    "print(len(train[(train.weight>200)&(train.disease == 0)]))"
   ]
  },
  {
   "cell_type": "markdown",
   "id": "5e703af2",
   "metadata": {
    "id": "5e703af2"
   },
   "source": [
    "#### Comment: as is shown in the above values there is no big diffrance if the person have the disease or not with outliers on weight and height\n",
    "\n",
    "#### So we ganna remove the outliers"
   ]
  },
  {
   "cell_type": "code",
   "execution_count": 109,
   "id": "f574daa8",
   "metadata": {
    "colab": {
     "base_uri": "https://localhost:8080/",
     "height": 0
    },
    "id": "f574daa8",
    "outputId": "15893bd4-ce79-47aa-a2f6-77ec6d3d04eb"
   },
   "outputs": [
    {
     "data": {
      "text/plain": [
       "<AxesSubplot:xlabel='height'>"
      ]
     },
     "execution_count": 109,
     "metadata": {},
     "output_type": "execute_result"
    },
    {
     "data": {
      "image/png": "[encoded data removed]",
      "text/plain": [
       "<Figure size 432x288 with 1 Axes>"
      ]
     },
     "metadata": {
      "needs_background": "light"
     },
     "output_type": "display_data"
    }
   ],
   "source": [
    "height_f=train[train.gender_women==1]\n",
    "sns.boxplot(height_f['height'])"
   ]
  },
  {
   "cell_type": "code",
   "execution_count": 110,
   "id": "ebdf1655",
   "metadata": {
    "colab": {
     "base_uri": "https://localhost:8080/",
     "height": 0
    },
    "id": "ebdf1655",
    "outputId": "570e9ba3-5e0a-45c5-c859-5fbfa5db3e89"
   },
   "outputs": [
    {
     "data": {
      "text/plain": [
       "<AxesSubplot:xlabel='height'>"
      ]
     },
     "execution_count": 110,
     "metadata": {},
     "output_type": "execute_result"
    },
    {
     "data": {
      "image/png": "[encoded data removed]",
      "text/plain": [
       "<Figure size 432x288 with 1 Axes>"
      ]
     },
     "metadata": {
      "needs_background": "light"
     },
     "output_type": "display_data"
    }
   ],
   "source": [
    "height_m=train[train.gender_women==0]\n",
    "sns.boxplot(height_m['height'])"
   ]
  },
  {
   "cell_type": "code",
   "execution_count": 111,
   "id": "2d2db0ad",
   "metadata": {
    "id": "2d2db0ad"
   },
   "outputs": [],
   "source": [
    "#drop some outliers\n",
    "\n",
    "train.drop(train[train.height<120].index, inplace=True)\n",
    "train.drop(train[train.height>225].index, inplace=True)"
   ]
  },
  {
   "cell_type": "code",
   "execution_count": 112,
   "id": "c0b2c1b2",
   "metadata": {
    "colab": {
     "base_uri": "https://localhost:8080/",
     "height": 0
    },
    "id": "c0b2c1b2",
    "outputId": "7dac011c-f1ce-454f-8912-5041f7a19de9"
   },
   "outputs": [
    {
     "data": {
      "text/plain": [
       "<AxesSubplot:xlabel='weight'>"
      ]
     },
     "execution_count": 112,
     "metadata": {},
     "output_type": "execute_result"
    },
    {
     "data": {
      "image/png": "[encoded data removed]",
      "text/plain": [
       "<Figure size 432x288 with 1 Axes>"
      ]
     },
     "metadata": {
      "needs_background": "light"
     },
     "output_type": "display_data"
    }
   ],
   "source": [
    "weight_f=train[train.gender_women==1]\n",
    "sns.boxplot(weight_f['weight'])"
   ]
  },
  {
   "cell_type": "code",
   "execution_count": 113,
   "id": "e472f6eb",
   "metadata": {
    "colab": {
     "base_uri": "https://localhost:8080/",
     "height": 0
    },
    "id": "e472f6eb",
    "outputId": "bce514b5-6633-4399-ad63-898e7626b94a"
   },
   "outputs": [
    {
     "data": {
      "text/plain": [
       "<AxesSubplot:xlabel='weight'>"
      ]
     },
     "execution_count": 113,
     "metadata": {},
     "output_type": "execute_result"
    },
    {
     "data": {
      "image/png": "[encoded data removed]",
      "text/plain": [
       "<Figure size 432x288 with 1 Axes>"
      ]
     },
     "metadata": {
      "needs_background": "light"
     },
     "output_type": "display_data"
    }
   ],
   "source": [
    "weight_m=train[train.gender_women==0]\n",
    "sns.boxplot(weight_m['weight'])"
   ]
  },
  {
   "cell_type": "code",
   "execution_count": 114,
   "id": "e02ab0f6",
   "metadata": {
    "id": "e02ab0f6"
   },
   "outputs": [],
   "source": [
    "train.drop(train[train.weight<40].index, inplace=True)\n",
    "train.drop(train[train.weight>200].index, inplace=True)"
   ]
  },
  {
   "cell_type": "code",
   "execution_count": 115,
   "id": "0faf6a68",
   "metadata": {
    "colab": {
     "base_uri": "https://localhost:8080/",
     "height": 0
    },
    "id": "0faf6a68",
    "outputId": "8ba31626-2844-4b6b-97c2-a6b126065838"
   },
   "outputs": [
    {
     "data": {
      "text/html": [
       "<div>\n",
       "<style scoped>\n",
       "    .dataframe tbody tr th:only-of-type {\n",
       "        vertical-align: middle;\n",
       "    }\n",
       "\n",
       "    .dataframe tbody tr th {\n",
       "        vertical-align: top;\n",
       "    }\n",
       "\n",
       "    .dataframe thead th {\n",
       "        text-align: right;\n",
       "    }\n",
       "</style>\n",
       "<table border=\"1\" class=\"dataframe\">\n",
       "  <thead>\n",
       "    <tr style=\"text-align: right;\">\n",
       "      <th></th>\n",
       "      <th>age</th>\n",
       "      <th>height</th>\n",
       "      <th>weight</th>\n",
       "      <th>systolic_bp</th>\n",
       "      <th>diastolic_bp</th>\n",
       "      <th>smoke</th>\n",
       "      <th>alcohol</th>\n",
       "      <th>active</th>\n",
       "      <th>BMI</th>\n",
       "      <th>ratio_S/D</th>\n",
       "      <th>...</th>\n",
       "      <th>cholesterol_well_above_normal</th>\n",
       "      <th>glucose_normal</th>\n",
       "      <th>glucose_well_above_normal</th>\n",
       "      <th>BMI_class_Overweight</th>\n",
       "      <th>BMI_class_extrem obese</th>\n",
       "      <th>BMI_class_obese</th>\n",
       "      <th>BMI_class_underweight</th>\n",
       "      <th>age_class_Old</th>\n",
       "      <th>bp_class_normal</th>\n",
       "      <th>disease</th>\n",
       "    </tr>\n",
       "  </thead>\n",
       "  <tbody>\n",
       "    <tr>\n",
       "      <th>count</th>\n",
       "      <td>61296.000000</td>\n",
       "      <td>61296.000000</td>\n",
       "      <td>61296.000000</td>\n",
       "      <td>61296.000000</td>\n",
       "      <td>61296.000000</td>\n",
       "      <td>61296.000000</td>\n",
       "      <td>61296.000000</td>\n",
       "      <td>61296.000000</td>\n",
       "      <td>61296.000000</td>\n",
       "      <td>61296.000000</td>\n",
       "      <td>...</td>\n",
       "      <td>61296.000000</td>\n",
       "      <td>61296.000000</td>\n",
       "      <td>61296.000000</td>\n",
       "      <td>61296.000000</td>\n",
       "      <td>61296.000000</td>\n",
       "      <td>61296.000000</td>\n",
       "      <td>61296.000000</td>\n",
       "      <td>61296.000000</td>\n",
       "      <td>61296.000000</td>\n",
       "      <td>61296.000000</td>\n",
       "    </tr>\n",
       "    <tr>\n",
       "      <th>mean</th>\n",
       "      <td>53.333293</td>\n",
       "      <td>164.434873</td>\n",
       "      <td>74.240778</td>\n",
       "      <td>126.718791</td>\n",
       "      <td>81.343367</td>\n",
       "      <td>0.089663</td>\n",
       "      <td>0.054278</td>\n",
       "      <td>0.802858</td>\n",
       "      <td>27.498018</td>\n",
       "      <td>0.645639</td>\n",
       "      <td>...</td>\n",
       "      <td>0.115978</td>\n",
       "      <td>0.849436</td>\n",
       "      <td>0.076661</td>\n",
       "      <td>0.359045</td>\n",
       "      <td>0.088097</td>\n",
       "      <td>0.174139</td>\n",
       "      <td>0.008793</td>\n",
       "      <td>0.395801</td>\n",
       "      <td>0.728514</td>\n",
       "      <td>0.497732</td>\n",
       "    </tr>\n",
       "    <tr>\n",
       "      <th>std</th>\n",
       "      <td>6.770676</td>\n",
       "      <td>7.944450</td>\n",
       "      <td>14.318580</td>\n",
       "      <td>16.732303</td>\n",
       "      <td>9.470651</td>\n",
       "      <td>0.285701</td>\n",
       "      <td>0.226567</td>\n",
       "      <td>0.397844</td>\n",
       "      <td>5.264509</td>\n",
       "      <td>0.060033</td>\n",
       "      <td>...</td>\n",
       "      <td>0.320201</td>\n",
       "      <td>0.357627</td>\n",
       "      <td>0.266055</td>\n",
       "      <td>0.479724</td>\n",
       "      <td>0.283438</td>\n",
       "      <td>0.379232</td>\n",
       "      <td>0.093361</td>\n",
       "      <td>0.489026</td>\n",
       "      <td>0.444730</td>\n",
       "      <td>0.499999</td>\n",
       "    </tr>\n",
       "    <tr>\n",
       "      <th>min</th>\n",
       "      <td>29.600000</td>\n",
       "      <td>120.000000</td>\n",
       "      <td>40.000000</td>\n",
       "      <td>80.000000</td>\n",
       "      <td>40.000000</td>\n",
       "      <td>0.000000</td>\n",
       "      <td>0.000000</td>\n",
       "      <td>0.000000</td>\n",
       "      <td>13.520822</td>\n",
       "      <td>0.250000</td>\n",
       "      <td>...</td>\n",
       "      <td>0.000000</td>\n",
       "      <td>0.000000</td>\n",
       "      <td>0.000000</td>\n",
       "      <td>0.000000</td>\n",
       "      <td>0.000000</td>\n",
       "      <td>0.000000</td>\n",
       "      <td>0.000000</td>\n",
       "      <td>0.000000</td>\n",
       "      <td>0.000000</td>\n",
       "      <td>0.000000</td>\n",
       "    </tr>\n",
       "    <tr>\n",
       "      <th>25%</th>\n",
       "      <td>48.400000</td>\n",
       "      <td>159.000000</td>\n",
       "      <td>65.000000</td>\n",
       "      <td>120.000000</td>\n",
       "      <td>80.000000</td>\n",
       "      <td>0.000000</td>\n",
       "      <td>0.000000</td>\n",
       "      <td>1.000000</td>\n",
       "      <td>23.875115</td>\n",
       "      <td>0.615385</td>\n",
       "      <td>...</td>\n",
       "      <td>0.000000</td>\n",
       "      <td>1.000000</td>\n",
       "      <td>0.000000</td>\n",
       "      <td>0.000000</td>\n",
       "      <td>0.000000</td>\n",
       "      <td>0.000000</td>\n",
       "      <td>0.000000</td>\n",
       "      <td>0.000000</td>\n",
       "      <td>0.000000</td>\n",
       "      <td>0.000000</td>\n",
       "    </tr>\n",
       "    <tr>\n",
       "      <th>50%</th>\n",
       "      <td>54.000000</td>\n",
       "      <td>165.000000</td>\n",
       "      <td>72.000000</td>\n",
       "      <td>120.000000</td>\n",
       "      <td>80.000000</td>\n",
       "      <td>0.000000</td>\n",
       "      <td>0.000000</td>\n",
       "      <td>1.000000</td>\n",
       "      <td>26.397977</td>\n",
       "      <td>0.666667</td>\n",
       "      <td>...</td>\n",
       "      <td>0.000000</td>\n",
       "      <td>1.000000</td>\n",
       "      <td>0.000000</td>\n",
       "      <td>0.000000</td>\n",
       "      <td>0.000000</td>\n",
       "      <td>0.000000</td>\n",
       "      <td>0.000000</td>\n",
       "      <td>0.000000</td>\n",
       "      <td>1.000000</td>\n",
       "      <td>0.000000</td>\n",
       "    </tr>\n",
       "    <tr>\n",
       "      <th>75%</th>\n",
       "      <td>58.400000</td>\n",
       "      <td>170.000000</td>\n",
       "      <td>82.000000</td>\n",
       "      <td>140.000000</td>\n",
       "      <td>90.000000</td>\n",
       "      <td>0.000000</td>\n",
       "      <td>0.000000</td>\n",
       "      <td>1.000000</td>\n",
       "      <td>30.222222</td>\n",
       "      <td>0.666667</td>\n",
       "      <td>...</td>\n",
       "      <td>0.000000</td>\n",
       "      <td>1.000000</td>\n",
       "      <td>0.000000</td>\n",
       "      <td>1.000000</td>\n",
       "      <td>0.000000</td>\n",
       "      <td>0.000000</td>\n",
       "      <td>0.000000</td>\n",
       "      <td>1.000000</td>\n",
       "      <td>1.000000</td>\n",
       "      <td>1.000000</td>\n",
       "    </tr>\n",
       "    <tr>\n",
       "      <th>max</th>\n",
       "      <td>65.000000</td>\n",
       "      <td>207.000000</td>\n",
       "      <td>200.000000</td>\n",
       "      <td>240.000000</td>\n",
       "      <td>130.000000</td>\n",
       "      <td>1.000000</td>\n",
       "      <td>1.000000</td>\n",
       "      <td>1.000000</td>\n",
       "      <td>108.169847</td>\n",
       "      <td>1.625000</td>\n",
       "      <td>...</td>\n",
       "      <td>1.000000</td>\n",
       "      <td>1.000000</td>\n",
       "      <td>1.000000</td>\n",
       "      <td>1.000000</td>\n",
       "      <td>1.000000</td>\n",
       "      <td>1.000000</td>\n",
       "      <td>1.000000</td>\n",
       "      <td>1.000000</td>\n",
       "      <td>1.000000</td>\n",
       "      <td>1.000000</td>\n",
       "    </tr>\n",
       "  </tbody>\n",
       "</table>\n",
       "<p>8 rows × 24 columns</p>\n",
       "</div>"
      ],
      "text/plain": [
       "                age        height        weight   systolic_bp  diastolic_bp  \\\n",
       "count  61296.000000  61296.000000  61296.000000  61296.000000  61296.000000   \n",
       "mean      53.333293    164.434873     74.240778    126.718791     81.343367   \n",
       "std        6.770676      7.944450     14.318580     16.732303      9.470651   \n",
       "min       29.600000    120.000000     40.000000     80.000000     40.000000   \n",
       "25%       48.400000    159.000000     65.000000    120.000000     80.000000   \n",
       "50%       54.000000    165.000000     72.000000    120.000000     80.000000   \n",
       "75%       58.400000    170.000000     82.000000    140.000000     90.000000   \n",
       "max       65.000000    207.000000    200.000000    240.000000    130.000000   \n",
       "\n",
       "              smoke       alcohol        active           BMI     ratio_S/D  \\\n",
       "count  61296.000000  61296.000000  61296.000000  61296.000000  61296.000000   \n",
       "mean       0.089663      0.054278      0.802858     27.498018      0.645639   \n",
       "std        0.285701      0.226567      0.397844      5.264509      0.060033   \n",
       "min        0.000000      0.000000      0.000000     13.520822      0.250000   \n",
       "25%        0.000000      0.000000      1.000000     23.875115      0.615385   \n",
       "50%        0.000000      0.000000      1.000000     26.397977      0.666667   \n",
       "75%        0.000000      0.000000      1.000000     30.222222      0.666667   \n",
       "max        1.000000      1.000000      1.000000    108.169847      1.625000   \n",
       "\n",
       "       ...  cholesterol_well_above_normal  glucose_normal  \\\n",
       "count  ...                   61296.000000    61296.000000   \n",
       "mean   ...                       0.115978        0.849436   \n",
       "std    ...                       0.320201        0.357627   \n",
       "min    ...                       0.000000        0.000000   \n",
       "25%    ...                       0.000000        1.000000   \n",
       "50%    ...                       0.000000        1.000000   \n",
       "75%    ...                       0.000000        1.000000   \n",
       "max    ...                       1.000000        1.000000   \n",
       "\n",
       "       glucose_well_above_normal  BMI_class_Overweight  \\\n",
       "count               61296.000000          61296.000000   \n",
       "mean                    0.076661              0.359045   \n",
       "std                     0.266055              0.479724   \n",
       "min                     0.000000              0.000000   \n",
       "25%                     0.000000              0.000000   \n",
       "50%                     0.000000              0.000000   \n",
       "75%                     0.000000              1.000000   \n",
       "max                     1.000000              1.000000   \n",
       "\n",
       "       BMI_class_extrem obese  BMI_class_obese  BMI_class_underweight  \\\n",
       "count            61296.000000     61296.000000           61296.000000   \n",
       "mean                 0.088097         0.174139               0.008793   \n",
       "std                  0.283438         0.379232               0.093361   \n",
       "min                  0.000000         0.000000               0.000000   \n",
       "25%                  0.000000         0.000000               0.000000   \n",
       "50%                  0.000000         0.000000               0.000000   \n",
       "75%                  0.000000         0.000000               0.000000   \n",
       "max                  1.000000         1.000000               1.000000   \n",
       "\n",
       "       age_class_Old  bp_class_normal       disease  \n",
       "count   61296.000000     61296.000000  61296.000000  \n",
       "mean        0.395801         0.728514      0.497732  \n",
       "std         0.489026         0.444730      0.499999  \n",
       "min         0.000000         0.000000      0.000000  \n",
       "25%         0.000000         0.000000      0.000000  \n",
       "50%         0.000000         1.000000      0.000000  \n",
       "75%         1.000000         1.000000      1.000000  \n",
       "max         1.000000         1.000000      1.000000  \n",
       "\n",
       "[8 rows x 24 columns]"
      ]
     },
     "execution_count": 115,
     "metadata": {},
     "output_type": "execute_result"
    }
   ],
   "source": [
    "train.describe()"
   ]
  },
  {
   "cell_type": "code",
   "execution_count": 116,
   "id": "4e348124",
   "metadata": {
    "colab": {
     "base_uri": "https://localhost:8080/",
     "height": 0
    },
    "id": "4e348124",
    "outputId": "5dfcb0c7-77b7-47db-88be-64590ba45b26"
   },
   "outputs": [
    {
     "data": {
      "text/plain": [
       "(61296, 24)"
      ]
     },
     "execution_count": 116,
     "metadata": {},
     "output_type": "execute_result"
    }
   ],
   "source": [
    "train.shape"
   ]
  },
  {
   "cell_type": "markdown",
   "id": "13d4e778",
   "metadata": {
    "id": "13d4e778"
   },
   "source": [
    "-----------"
   ]
  },
  {
   "cell_type": "markdown",
   "id": "0bc91686",
   "metadata": {
    "id": "0bc91686"
   },
   "source": [
    "## Data Exploration \n"
   ]
  },
  {
   "cell_type": "code",
   "execution_count": 117,
   "id": "6845bd37",
   "metadata": {
    "colab": {
     "base_uri": "https://localhost:8080/",
     "height": 0
    },
    "id": "6845bd37",
    "outputId": "e9c63846-cb9e-4d8a-a71a-a8a306d9bf7b"
   },
   "outputs": [
    {
     "data": {
      "image/png": "[encoded data removed]",
      "text/plain": [
       "<Figure size 480x320 with 1 Axes>"
      ]
     },
     "metadata": {
      "needs_background": "light"
     },
     "output_type": "display_data"
    }
   ],
   "source": [
    "plt.figure(figsize=(6, 4), dpi=80)\n",
    "\n",
    "sns.countplot(x=df['disease'],data=df, color='#0072BD')\n",
    "plt.title(\"Disease Category\", fontsize=14, fontweight='bold')\n",
    "plt.ylabel(\"Number of patiens\", fontsize=12, fontweight='bold')\n",
    "plt.xlabel(\"disease Category\", fontsize=12, fontweight='bold')\n",
    "plt.xticks(size=14)\n",
    "\n",
    "\n",
    "plt.savefig('balane_data.png',dpi=100, bbox_inches='tight')"
   ]
  },
  {
   "cell_type": "code",
   "execution_count": 118,
   "id": "b67a614b",
   "metadata": {
    "colab": {
     "base_uri": "https://localhost:8080/",
     "height": 0
    },
    "id": "b67a614b",
    "outputId": "35f48e6b-6144-43d5-ec71-ae50c370e0b9"
   },
   "outputs": [
    {
     "data": {
      "text/plain": [
       "disease\n",
       "0    0.502268\n",
       "1    0.497732\n",
       "Name: The rate patiens have the diseaseor, dtype: float64"
      ]
     },
     "execution_count": 118,
     "metadata": {},
     "output_type": "execute_result"
    }
   ],
   "source": [
    "train_3=train.groupby('disease').count()\n",
    "train_3['The rate patiens have the diseaseor']=train_3['age']/len(train)\n",
    "train_3['The rate patiens have the diseaseor']"
   ]
  },
  {
   "cell_type": "markdown",
   "id": "647014c7",
   "metadata": {
    "id": "647014c7"
   },
   "source": [
    "#### Comment: for the above values and plot means that our data is balanced."
   ]
  },
  {
   "cell_type": "markdown",
   "id": "94b9ca27",
   "metadata": {
    "id": "94b9ca27"
   },
   "source": [
    "####  Now we will discover data and see the relationship between the features and the target"
   ]
  },
  {
   "cell_type": "code",
   "execution_count": 119,
   "id": "5d520f14",
   "metadata": {
    "colab": {
     "base_uri": "https://localhost:8080/",
     "height": 0
    },
    "id": "5d520f14",
    "outputId": "3fe4599c-ac75-48ba-e8f2-6d6a1cf860e4"
   },
   "outputs": [
    {
     "data": {
      "image/png": "[encoded data removed]",
      "text/plain": [
       "<Figure size 1080x720 with 1 Axes>"
      ]
     },
     "metadata": {
      "needs_background": "light"
     },
     "output_type": "display_data"
    }
   ],
   "source": [
    "train_Q1=train[train.disease==1].groupby('age').count()\n",
    "\n",
    "plt.figure(figsize = [15,10])\n",
    "colors = sns.color_palette('pastel')\n",
    "sns.histplot(data=train_Q1, x=train_Q1.index, y=\"disease\")\n",
    "\n",
    "plt.title('Impact the age to Infected on Cardiovascular disease', fontsize = 20)\n",
    "plt.xlabel(\"Age\", fontsize = 16)\n",
    "plt.ylabel(\"Number of Infected\", fontsize = 16);"
   ]
  },
  {
   "cell_type": "markdown",
   "id": "7e160926",
   "metadata": {
    "id": "7e160926"
   },
   "source": [
    "#### Comment: the above plot show us when the age increases the number of Infected increases, so the age important vector in Cardiovascular disease "
   ]
  },
  {
   "cell_type": "code",
   "execution_count": 56,
   "id": "80f9f5b0",
   "metadata": {
    "colab": {
     "base_uri": "https://localhost:8080/",
     "height": 0
    },
    "id": "80f9f5b0",
    "outputId": "f8f87acd-ff00-404c-d381-d72b3c7bfaef",
    "scrolled": true
   },
   "outputs": [
    {
     "data": {
      "text/plain": [
       "<AxesSubplot:title={'center':'Distribution of Genders (1- women; 2- men)'}, xlabel='Gender', ylabel='Number of Infected'>"
      ]
     },
     "execution_count": 56,
     "metadata": {},
     "output_type": "execute_result"
    },
    {
     "data": {
      "image/png": "[encoded data removed]",
      "text/plain": [
       "<Figure size 576x360 with 1 Axes>"
      ]
     },
     "metadata": {
      "needs_background": "light"
     },
     "output_type": "display_data"
    }
   ],
   "source": [
    "# gender Distribution\n",
    "fig, ax = plt.subplots(figsize = (8, 5))\n",
    "ax.set_title('Distribution of Genders (1- women; 2- men)', fontsize = 20)\n",
    "ax.set_xlabel(\"Gender\", fontsize = 16)\n",
    "ax.set_ylabel(\"Number of Infected\", fontsize = 16)\n",
    "colors = sns.color_palette('pastel')[0:2]\n",
    "train[\"gender_women\"].value_counts().plot(ax = ax, kind = \"bar\", color = colors)"
   ]
  },
  {
   "cell_type": "markdown",
   "id": "ada33778",
   "metadata": {
    "id": "ada33778"
   },
   "source": [
    "#### Comment: the above plot show us that women have the highest infected on Cardiovascular disease."
   ]
  },
  {
   "cell_type": "code",
   "execution_count": 57,
   "id": "03902235",
   "metadata": {
    "colab": {
     "base_uri": "https://localhost:8080/",
     "height": 0
    },
    "id": "03902235",
    "outputId": "32770003-12f3-46f2-d94c-6dd4dd350459"
   },
   "outputs": [
    {
     "data": {
      "text/plain": [
       "Text(-2.6999999999999957, 0.5, 'Number of Infected')"
      ]
     },
     "execution_count": 57,
     "metadata": {},
     "output_type": "execute_result"
    },
    {
     "data": {
      "text/plain": [
       "<Figure size 1080x720 with 0 Axes>"
      ]
     },
     "metadata": {},
     "output_type": "display_data"
    },
    {
     "data": {
      "image/png": "[encoded data removed]",
      "text/plain": [
       "<Figure size 432x432 with 1 Axes>"
      ]
     },
     "metadata": {
      "needs_background": "light"
     },
     "output_type": "display_data"
    }
   ],
   "source": [
    "# two plot for women and man because we can not combin both genders in the same scale.\n",
    "\n",
    "train_Q4_woman=train[(train.gender_women==1) & (train.disease==1)].groupby('weight').count().sort_values(by='disease',ascending=False).head(10)\n",
    "\n",
    "plt.figure(figsize = [15,10])\n",
    "colors = sns.color_palette('pastel')[0:10]\n",
    "sns.catplot(data=train_Q4_woman, kind=\"bar\",x=train_Q4_woman.index, y=\"disease\", ci=\"sd\", palette=\"dark\", alpha=.6, height=6, color=colors)\n",
    "plt.title('Distribution of Weight to Infected on Cardiovascular disease for Women', fontsize = 20)\n",
    "plt.xlabel(\"Weight in Kg\", fontsize = 16)\n",
    "plt.ylabel(\"Number of Infected\", fontsize = 16)"
   ]
  },
  {
   "cell_type": "code",
   "execution_count": 58,
   "id": "fed4368e",
   "metadata": {
    "id": "fed4368e"
   },
   "outputs": [
    {
     "data": {
      "text/plain": [
       "Text(3.6750000000000043, 0.5, 'Number of Infected')"
      ]
     },
     "execution_count": 58,
     "metadata": {},
     "output_type": "execute_result"
    },
    {
     "data": {
      "text/plain": [
       "<Figure size 1080x720 with 0 Axes>"
      ]
     },
     "metadata": {},
     "output_type": "display_data"
    },
    {
     "data": {
      "image/png": "[encoded data removed]",
      "text/plain": [
       "<Figure size 432x432 with 1 Axes>"
      ]
     },
     "metadata": {
      "needs_background": "light"
     },
     "output_type": "display_data"
    }
   ],
   "source": [
    "train_Q4_man=train[(train.gender_women==0) & (train.disease==1)].groupby('weight').count().sort_values(by='disease',ascending=False).head(10)\n",
    "\n",
    "plt.figure(figsize = [15,10])\n",
    "colors = sns.color_palette('pastel')[0:10]\n",
    "sns.catplot(data=train_Q4_man, kind=\"bar\",x=train_Q4_man.index, y=\"disease\", ci=\"sd\", palette=\"dark\", alpha=.6, height=6,color=colors)\n",
    "plt.title('Distribution of Weight to Infected on Cardiovascular disease for Man', fontsize = 20)\n",
    "plt.xlabel(\"Weight in Kg\", fontsize = 16)\n",
    "plt.ylabel(\"Number of Infected\", fontsize = 16)"
   ]
  },
  {
   "cell_type": "markdown",
   "id": "69194062",
   "metadata": {
    "id": "69194062"
   },
   "source": [
    "####  Comment: as is shown in the two above plots, that the weight not factor in infection on Cardiovascular disease."
   ]
  },
  {
   "cell_type": "code",
   "execution_count": 59,
   "id": "b2373b6d",
   "metadata": {
    "id": "b2373b6d"
   },
   "outputs": [
    {
     "data": {
      "text/html": [
       "<div>\n",
       "<style scoped>\n",
       "    .dataframe tbody tr th:only-of-type {\n",
       "        vertical-align: middle;\n",
       "    }\n",
       "\n",
       "    .dataframe tbody tr th {\n",
       "        vertical-align: top;\n",
       "    }\n",
       "\n",
       "    .dataframe thead th {\n",
       "        text-align: right;\n",
       "    }\n",
       "</style>\n",
       "<table border=\"1\" class=\"dataframe\">\n",
       "  <thead>\n",
       "    <tr style=\"text-align: right;\">\n",
       "      <th></th>\n",
       "      <th>The ratio of smoking patient gitting the Cardiovascular Disease</th>\n",
       "    </tr>\n",
       "    <tr>\n",
       "      <th>smoke</th>\n",
       "      <th></th>\n",
       "    </tr>\n",
       "  </thead>\n",
       "  <tbody>\n",
       "    <tr>\n",
       "      <th>Not Smokers</th>\n",
       "      <td>0.915304</td>\n",
       "    </tr>\n",
       "    <tr>\n",
       "      <th>Smokers</th>\n",
       "      <td>0.084696</td>\n",
       "    </tr>\n",
       "  </tbody>\n",
       "</table>\n",
       "</div>"
      ],
      "text/plain": [
       "             The ratio of smoking patient gitting the Cardiovascular Disease\n",
       "smoke                                                                       \n",
       "Not Smokers                                           0.915304              \n",
       "Smokers                                               0.084696              "
      ]
     },
     "execution_count": 59,
     "metadata": {},
     "output_type": "execute_result"
    }
   ],
   "source": [
    "train_Q3=train[train.disease==1].groupby('smoke').count()\n",
    "train_Q3['The ratio of smoking patient gitting the Cardiovascular Disease']=train_Q3['disease']/sum(train['disease'])\n",
    "\n",
    "train_Q3=pd.DataFrame(train_Q3['The ratio of smoking patient gitting the Cardiovascular Disease'])\n",
    "train_Q3.rename(index={0:'Not Smokers', 1:'Smokers'},  inplace=True)\n",
    "train_Q3"
   ]
  },
  {
   "cell_type": "code",
   "execution_count": 60,
   "id": "d60d4d26",
   "metadata": {
    "id": "d60d4d26"
   },
   "outputs": [
    {
     "data": {
      "text/html": [
       "<div>\n",
       "<style scoped>\n",
       "    .dataframe tbody tr th:only-of-type {\n",
       "        vertical-align: middle;\n",
       "    }\n",
       "\n",
       "    .dataframe tbody tr th {\n",
       "        vertical-align: top;\n",
       "    }\n",
       "\n",
       "    .dataframe thead th {\n",
       "        text-align: right;\n",
       "    }\n",
       "</style>\n",
       "<table border=\"1\" class=\"dataframe\">\n",
       "  <thead>\n",
       "    <tr style=\"text-align: right;\">\n",
       "      <th></th>\n",
       "      <th>The ratio of active patient gitting the Cardiovascular Disease</th>\n",
       "    </tr>\n",
       "    <tr>\n",
       "      <th>active</th>\n",
       "      <th></th>\n",
       "    </tr>\n",
       "  </thead>\n",
       "  <tbody>\n",
       "    <tr>\n",
       "      <th>Not active</th>\n",
       "      <td>0.211774</td>\n",
       "    </tr>\n",
       "    <tr>\n",
       "      <th>active</th>\n",
       "      <td>0.788226</td>\n",
       "    </tr>\n",
       "  </tbody>\n",
       "</table>\n",
       "</div>"
      ],
      "text/plain": [
       "            The ratio of active patient gitting the Cardiovascular Disease\n",
       "active                                                                    \n",
       "Not active                                           0.211774             \n",
       "active                                               0.788226             "
      ]
     },
     "execution_count": 60,
     "metadata": {},
     "output_type": "execute_result"
    }
   ],
   "source": [
    "train_Q5=train[train.disease==1].groupby('active').count()\n",
    "train_Q5['The ratio of active patient gitting the Cardiovascular Disease']=train_Q5['disease']/sum(train['disease'])\n",
    "\n",
    "train_Q5=pd.DataFrame(train_Q5['The ratio of active patient gitting the Cardiovascular Disease'])\n",
    "train_Q5.rename(index={0:'Not active', 1:'active'},  inplace=True)\n",
    "train_Q5"
   ]
  },
  {
   "cell_type": "code",
   "execution_count": 61,
   "id": "49497438",
   "metadata": {
    "id": "49497438"
   },
   "outputs": [
    {
     "data": {
      "text/html": [
       "<div>\n",
       "<style scoped>\n",
       "    .dataframe tbody tr th:only-of-type {\n",
       "        vertical-align: middle;\n",
       "    }\n",
       "\n",
       "    .dataframe tbody tr th {\n",
       "        vertical-align: top;\n",
       "    }\n",
       "\n",
       "    .dataframe thead th {\n",
       "        text-align: right;\n",
       "    }\n",
       "</style>\n",
       "<table border=\"1\" class=\"dataframe\">\n",
       "  <thead>\n",
       "    <tr style=\"text-align: right;\">\n",
       "      <th></th>\n",
       "      <th>The ratio of alcoholic patient gitting the Cardiovascular Disease</th>\n",
       "    </tr>\n",
       "    <tr>\n",
       "      <th>alcohol</th>\n",
       "      <th></th>\n",
       "    </tr>\n",
       "  </thead>\n",
       "  <tbody>\n",
       "    <tr>\n",
       "      <th>Not Drinker</th>\n",
       "      <td>0.948573</td>\n",
       "    </tr>\n",
       "    <tr>\n",
       "      <th>Drink alcohol</th>\n",
       "      <td>0.051427</td>\n",
       "    </tr>\n",
       "  </tbody>\n",
       "</table>\n",
       "</div>"
      ],
      "text/plain": [
       "               The ratio of alcoholic patient gitting the Cardiovascular Disease\n",
       "alcohol                                                                         \n",
       "Not Drinker                                             0.948573                \n",
       "Drink alcohol                                           0.051427                "
      ]
     },
     "execution_count": 61,
     "metadata": {},
     "output_type": "execute_result"
    }
   ],
   "source": [
    "train_Q6=train[train.disease==1].groupby('alcohol').count()\n",
    "train_Q6['The ratio of alcoholic patient gitting the Cardiovascular Disease']=train_Q6['disease']/sum(train['disease'])\n",
    "\n",
    "train_Q6=pd.DataFrame(train_Q6['The ratio of alcoholic patient gitting the Cardiovascular Disease'])\n",
    "train_Q6.rename(index={0:'Not Drinker', 1:'Drink alcohol'},  inplace=True)\n",
    "train_Q6"
   ]
  },
  {
   "cell_type": "code",
   "execution_count": 62,
   "id": "yISSCZMXAq-X",
   "metadata": {
    "id": "yISSCZMXAq-X"
   },
   "outputs": [
    {
     "data": {
      "image/png": "[encoded data removed]",
      "text/plain": [
       "<Figure size 1800x360 with 3 Axes>"
      ]
     },
     "metadata": {},
     "output_type": "display_data"
    }
   ],
   "source": [
    "plt.figure(figsize=[25,5])\n",
    "\n",
    "colors = sns.color_palette('pastel')[0:2]\n",
    "\n",
    "plt.subplot(1,3,1)\n",
    "plt.pie(train_Q3['The ratio of smoking patient gitting the Cardiovascular Disease'], labels =list(train_Q3.index),colors = colors, autopct='%.0f%%' )\n",
    "plt.title('Ratio of smoking patient gitting the Cardiovascular Disease', fontsize = 15)\n",
    "\n",
    "\n",
    "\n",
    "plt.subplot(1,3,2)\n",
    "plt.pie(train_Q5['The ratio of active patient gitting the Cardiovascular Disease'], labels =list(train_Q5.index),colors = colors, autopct='%.0f%%' )\n",
    "plt.title('Ratio of active patient gitting the Cardiovascular Disease', fontsize = 15)\n",
    "\n",
    "\n",
    "\n",
    "plt.subplot(1,3,3)\n",
    "plt.pie(train_Q6['The ratio of alcoholic patient gitting the Cardiovascular Disease'], labels =list(train_Q6.index),colors = colors, autopct='%.0f%%' )\n",
    "plt.title('Ratio of alcoholic patient gitting the Cardiovascular Disease', fontsize = 15)\n",
    "\n",
    "\n",
    "plt.show()"
   ]
  },
  {
   "cell_type": "markdown",
   "id": "e43e58af",
   "metadata": {
    "id": "e43e58af"
   },
   "source": [
    "#### Comment: as is shown in the above values and plots there is no relation between the patient have the disease and wrong practices."
   ]
  },
  {
   "cell_type": "markdown",
   "id": "9a0ec192",
   "metadata": {
    "id": "9a0ec192"
   },
   "source": [
    "### Pairplot"
   ]
  },
  {
   "cell_type": "code",
   "execution_count": null,
   "id": "7d67f246",
   "metadata": {
    "id": "7d67f246",
    "scrolled": true
   },
   "outputs": [],
   "source": [
    "plt.figure(figsize = [20,15])\n",
    "\n",
    "sns.pairplot(train, hue='disease');"
   ]
  },
  {
   "cell_type": "code",
   "execution_count": 63,
   "id": "62bd7e16",
   "metadata": {
    "id": "62bd7e16"
   },
   "outputs": [
    {
     "data": {
      "text/plain": [
       "<AxesSubplot:>"
      ]
     },
     "execution_count": 63,
     "metadata": {},
     "output_type": "execute_result"
    },
    {
     "data": {
      "image/png": "[encoded data removed]",
      "text/plain": [
       "<Figure size 1440x1080 with 2 Axes>"
      ]
     },
     "metadata": {
      "needs_background": "light"
     },
     "output_type": "display_data"
    }
   ],
   "source": [
    "plt.figure(figsize = [20,15])\n",
    "\n",
    "sns.heatmap(df.corr(),annot_kws={\"fontsize\":10},annot=True,vmin=-1, vmax=1,cmap=\"RdBu\")"
   ]
  },
  {
   "cell_type": "code",
   "execution_count": 64,
   "id": "1a2ef1af",
   "metadata": {
    "id": "1a2ef1af"
   },
   "outputs": [
    {
     "data": {
      "text/plain": [
       "Index(['age', 'height', 'weight', 'systolic_bp', 'diastolic_bp', 'smoke',\n",
       "       'alcohol', 'active', 'BMI', 'ratio_S/D', 'ratio_(S/D)/Weight',\n",
       "       'relation_wp', 'gender_women', 'cholesterol_normal',\n",
       "       'cholesterol_well_above_normal', 'glucose_normal',\n",
       "       'glucose_well_above_normal', 'BMI_class_Overweight',\n",
       "       'BMI_class_extrem obese', 'BMI_class_obese', 'BMI_class_underweight',\n",
       "       'age_class_Old', 'bp_class_normal', 'disease'],\n",
       "      dtype='object')"
      ]
     },
     "execution_count": 64,
     "metadata": {},
     "output_type": "execute_result"
    }
   ],
   "source": [
    "train.columns"
   ]
  },
  {
   "cell_type": "markdown",
   "id": "2c7572da",
   "metadata": {
    "id": "2c7572da"
   },
   "source": [
    "# Modeling\n"
   ]
  },
  {
   "cell_type": "code",
   "execution_count": 120,
   "id": "e44da24e",
   "metadata": {
    "id": "e44da24e"
   },
   "outputs": [],
   "source": [
    "## split after removed the outliers\n",
    "\n",
    "x1=train.drop('disease',axis=1)\n",
    "y1=train[['disease']]\n",
    "x_train,x_val,y_train,y_val= train_test_split(x1,y1 ,test_size=0.05, random_state=42)"
   ]
  },
  {
   "cell_type": "markdown",
   "id": "852ac0cb",
   "metadata": {
    "id": "852ac0cb"
   },
   "source": [
    "### Model 1: Logistic Regression model "
   ]
  },
  {
   "cell_type": "markdown",
   "id": "u-CbM20uHt-U",
   "metadata": {
    "id": "u-CbM20uHt-U"
   },
   "source": [
    "- GridSearch"
   ]
  },
  {
   "cell_type": "code",
   "execution_count": 121,
   "id": "240540f1",
   "metadata": {
    "colab": {
     "base_uri": "https://localhost:8080/",
     "height": 0
    },
    "id": "240540f1",
    "outputId": "cf68eca1-93dd-4533-fc02-9f9bded4e35e"
   },
   "outputs": [
    {
     "name": "stdout",
     "output_type": "stream",
     "text": [
      "The best parameter C is 0.1\n"
     ]
    }
   ],
   "source": [
    "## best C parmeter for Logistic Regression\n",
    "\n",
    "from sklearn.linear_model import LogisticRegressionCV\n",
    "logCV = LogisticRegressionCV(Cs=[0.01,0.1,1,10,100,1000,10000,100000,1000000], scoring='average_precision',verbose=0,max_iter=300,random_state=50)\n",
    "logCV.fit(x_train,y_train)\n",
    "print(\"The best parameter C is\",logCV.C_[0])"
   ]
  },
  {
   "cell_type": "code",
   "execution_count": 122,
   "id": "223cd500",
   "metadata": {
    "colab": {
     "base_uri": "https://localhost:8080/",
     "height": 0
    },
    "id": "223cd500",
    "outputId": "99f636e6-4e23-4863-b407-263c66826d51"
   },
   "outputs": [
    {
     "data": {
      "text/plain": [
       "0.7292163967646099"
      ]
     },
     "execution_count": 122,
     "metadata": {},
     "output_type": "execute_result"
    }
   ],
   "source": [
    "lr =LogisticRegression(C=0.1,verbose=0,max_iter=300,random_state=500)\n",
    "lr.fit(x_train,y_train)\n",
    "lr.score(x_train,y_train)"
   ]
  },
  {
   "cell_type": "code",
   "execution_count": 123,
   "id": "b6c77ef0",
   "metadata": {
    "colab": {
     "base_uri": "https://localhost:8080/",
     "height": 0
    },
    "id": "b6c77ef0",
    "outputId": "66653fa6-8ff4-44b8-8250-ccb8b801483f"
   },
   "outputs": [
    {
     "name": "stdout",
     "output_type": "stream",
     "text": [
      "Accuracy:    0.7086460032626427\n",
      "\n",
      "F1 Score:    0.679583781844277\n",
      "\n",
      "Recall:      0.7699186991869919\n",
      "\n",
      "Precision:   0.6082209377007065\n",
      "\n"
     ]
    }
   ],
   "source": [
    "### metrics for the val\n",
    "\n",
    "y_pred=lr.predict(x_val)\n",
    "My_metrics(y_val,y_pred)"
   ]
  },
  {
   "cell_type": "markdown",
   "id": "b969b7cd",
   "metadata": {
    "id": "b969b7cd"
   },
   "source": [
    "#### Scaling "
   ]
  },
  {
   "cell_type": "code",
   "execution_count": 124,
   "id": "c0bbc2c1",
   "metadata": {
    "id": "c0bbc2c1"
   },
   "outputs": [],
   "source": [
    "from sklearn.preprocessing import StandardScaler\n",
    "\n",
    "scaler = StandardScaler()\n",
    "scaler.fit(x_train)\n",
    "\n",
    "scaled_x_train = scaler.transform(x_train)\n",
    "scaled_x_val = scaler.transform(x_val)\n",
    "scaled_x_test = scaler.transform(x_test)"
   ]
  },
  {
   "cell_type": "code",
   "execution_count": 125,
   "id": "0e14f49e",
   "metadata": {
    "colab": {
     "base_uri": "https://localhost:8080/",
     "height": 0
    },
    "id": "0e14f49e",
    "outputId": "8459c20c-01bb-42d5-8e6b-c2af6901e662"
   },
   "outputs": [
    {
     "data": {
      "text/plain": [
       "0.7300578729542684"
      ]
     },
     "execution_count": 125,
     "metadata": {},
     "output_type": "execute_result"
    }
   ],
   "source": [
    "lr =LogisticRegression(C=0.1,verbose=0,max_iter=300,random_state=500)\n",
    "lr.fit(scaled_x_train,y_train)\n",
    "lr.score(scaled_x_train,y_train)"
   ]
  },
  {
   "cell_type": "code",
   "execution_count": 126,
   "id": "09e06d0a",
   "metadata": {
    "colab": {
     "base_uri": "https://localhost:8080/",
     "height": 0
    },
    "id": "09e06d0a",
    "outputId": "80949e4f-09ae-4227-bc37-42b0ac36cb8b"
   },
   "outputs": [
    {
     "name": "stdout",
     "output_type": "stream",
     "text": [
      "Accuracy:    0.7083197389885808\n",
      "\n",
      "F1 Score:    0.6791098348887293\n",
      "\n",
      "Recall:      0.7697314890154597\n",
      "\n",
      "Precision:   0.6075786769428388\n",
      "\n"
     ]
    }
   ],
   "source": [
    "### metrics for the val\n",
    "\n",
    "y_pred=lr.predict(scaled_x_val)\n",
    "My_metrics(y_val,y_pred)"
   ]
  },
  {
   "cell_type": "markdown",
   "id": "1a46777b",
   "metadata": {
    "id": "1a46777b"
   },
   "source": [
    "### Model 2: MLPClassifier"
   ]
  },
  {
   "cell_type": "markdown",
   "id": "TVj7aMAbIBIs",
   "metadata": {
    "id": "TVj7aMAbIBIs"
   },
   "source": [
    "- GridSearch"
   ]
  },
  {
   "cell_type": "code",
   "execution_count": 89,
   "id": "b1f72713",
   "metadata": {
    "id": "b1f72713"
   },
   "outputs": [],
   "source": [
    "from sklearn.neural_network import MLPClassifier\n",
    "from sklearn.model_selection import GridSearchCV"
   ]
  },
  {
   "cell_type": "code",
   "execution_count": 90,
   "id": "2a71507b",
   "metadata": {
    "colab": {
     "base_uri": "https://localhost:8080/",
     "height": 0
    },
    "id": "2a71507b",
    "outputId": "df651b17-f1e7-4e68-f5a3-0f103bcc8ceb"
   },
   "outputs": [
    {
     "data": {
      "text/plain": [
       "GridSearchCV(cv=5, estimator=MLPClassifier(max_iter=100), n_jobs=-1,\n",
       "             param_grid={'activation': ['tanh', 'relu'],\n",
       "                         'alpha': [0.0001, 0.05],\n",
       "                         'hidden_layer_sizes': [(10, 30, 10), (20,)],\n",
       "                         'learning_rate': ['constant', 'adaptive'],\n",
       "                         'solver': ['sgd', 'adam']})"
      ]
     },
     "execution_count": 90,
     "metadata": {},
     "output_type": "execute_result"
    }
   ],
   "source": [
    "mlp_gs = MLPClassifier(max_iter=100)\n",
    "parameter_space = {\n",
    "    'hidden_layer_sizes': [(10,30,10),(20,40)],\n",
    "    'activation': ['tanh', 'relu'],\n",
    "    'solver': ['sgd', 'adam'],\n",
    "    'alpha': [0.0001, 0.05],\n",
    "    'learning_rate': ['constant','adaptive'],\n",
    "}\n",
    "clf = GridSearchCV(mlp_gs, parameter_space, n_jobs=-1, cv=5)\n",
    "clf.fit(scaled_x_train, y_train) "
   ]
  },
  {
   "cell_type": "code",
   "execution_count": 94,
   "id": "2cPFlKkZjZf2",
   "metadata": {
    "colab": {
     "base_uri": "https://localhost:8080/",
     "height": 0
    },
    "id": "2cPFlKkZjZf2",
    "outputId": "c9a65ad2-6bde-4f92-a70a-7b3a2cbd6355"
   },
   "outputs": [
    {
     "name": "stdout",
     "output_type": "stream",
     "text": [
      "Best parameters found:\n",
      " {'activation': 'tanh', 'alpha': 0.05, 'hidden_layer_sizes': (10, 30, 10), 'learning_rate': 'adaptive', 'solver': 'adam'}\n"
     ]
    }
   ],
   "source": [
    "print('Best parameters found:\\n', clf.best_params_)\n"
   ]
  },
  {
   "cell_type": "code",
   "execution_count": 92,
   "id": "d6b33549",
   "metadata": {
    "colab": {
     "base_uri": "https://localhost:8080/",
     "height": 0
    },
    "id": "d6b33549",
    "outputId": "d57f0d14-587e-405b-b1d0-eee1b52d640d"
   },
   "outputs": [
    {
     "data": {
      "text/plain": [
       "0.7370987961738593"
      ]
     },
     "execution_count": 92,
     "metadata": {},
     "output_type": "execute_result"
    }
   ],
   "source": [
    "mlpc = MLPClassifier(activation= 'relu', alpha= 0.05, hidden_layer_sizes= (20,), learning_rate= 'constant', solver= 'adam',random_state=1, max_iter=100)\n",
    "mlpc.fit(scaled_x_train, y_train)\n",
    "mlpc.score(scaled_x_train,y_train)"
   ]
  },
  {
   "cell_type": "code",
   "execution_count": 93,
   "id": "e8dc71f9",
   "metadata": {
    "colab": {
     "base_uri": "https://localhost:8080/",
     "height": 0
    },
    "id": "e8dc71f9",
    "outputId": "326ee0c6-fd30-42cb-d767-f74fdefac5d4"
   },
   "outputs": [
    {
     "name": "stdout",
     "output_type": "stream",
     "text": [
      "Accuracy:    0.7187601957585644\n",
      "\n",
      "F1 Score:    0.7006944444444444\n",
      "\n",
      "Recall:      0.762660619803477\n",
      "\n",
      "Precision:   0.6480411046885035\n",
      "\n"
     ]
    }
   ],
   "source": [
    "### metrics for the val\n",
    "\n",
    "y_pred=mlpc.predict(scaled_x_val)\n",
    "My_metrics(y_val,y_pred)"
   ]
  },
  {
   "cell_type": "markdown",
   "id": "f9141d58",
   "metadata": {
    "id": "f9141d58"
   },
   "source": [
    "### Model 3: knn model"
   ]
  },
  {
   "cell_type": "code",
   "execution_count": 70,
   "id": "ac7dd80c",
   "metadata": {
    "colab": {
     "base_uri": "https://localhost:8080/",
     "height": 0
    },
    "id": "ac7dd80c",
    "outputId": "c10eccb9-e64c-426c-a2c1-99df682c69f9"
   },
   "outputs": [
    {
     "data": {
      "text/plain": [
       "0.7496350741014236"
      ]
     },
     "execution_count": 70,
     "metadata": {},
     "output_type": "execute_result"
    }
   ],
   "source": [
    "from sklearn.neighbors import KNeighborsClassifier\n",
    "\n",
    "knn = KNeighborsClassifier(n_neighbors=14, weights='uniform') ##< i did choose this parmeter after gridsearch it but in another notebook.\n",
    "knn.fit(scaled_x_train, y_train)\n",
    "knn.score(scaled_x_train, y_train)"
   ]
  },
  {
   "cell_type": "code",
   "execution_count": 71,
   "id": "140749b8",
   "metadata": {
    "colab": {
     "base_uri": "https://localhost:8080/",
     "height": 0
    },
    "id": "140749b8",
    "outputId": "08d5eacd-5e31-4a8f-ec65-30582449487c"
   },
   "outputs": [
    {
     "name": "stdout",
     "output_type": "stream",
     "text": [
      "Accuracy:    0.702446982055465\n",
      "\n",
      "F1 Score:    0.6826722338204593\n",
      "\n",
      "Recall:      0.744874715261959\n",
      "\n",
      "Precision:   0.630057803468208\n",
      "\n"
     ]
    }
   ],
   "source": [
    "### metrics for the val\n",
    "\n",
    "y_pred=knn.predict(scaled_x_val)\n",
    "My_metrics(y_val,y_pred)"
   ]
  },
  {
   "cell_type": "markdown",
   "id": "0ade5823",
   "metadata": {
    "id": "0ade5823"
   },
   "source": [
    "## Model 4: Decision Tree model"
   ]
  },
  {
   "cell_type": "code",
   "execution_count": 72,
   "id": "6d197fc5",
   "metadata": {
    "colab": {
     "base_uri": "https://localhost:8080/",
     "height": 0
    },
    "id": "6d197fc5",
    "outputId": "092c4e88-ed50-4773-9017-1f34b5b82d78"
   },
   "outputs": [
    {
     "data": {
      "text/plain": [
       "0.7252837835517164"
      ]
     },
     "execution_count": 72,
     "metadata": {},
     "output_type": "execute_result"
    }
   ],
   "source": [
    "from sklearn.tree import DecisionTreeClassifier\n",
    "\n",
    "dtc=DecisionTreeClassifier(random_state=500, max_depth=3)\n",
    "dtc.fit(scaled_x_train,y_train)\n",
    "dtc.score(scaled_x_train,y_train)"
   ]
  },
  {
   "cell_type": "code",
   "execution_count": 73,
   "id": "f1a8248c",
   "metadata": {
    "colab": {
     "base_uri": "https://localhost:8080/",
     "height": 0
    },
    "id": "f1a8248c",
    "outputId": "5894b686-3a9a-4e43-9415-7f963eed9dd5"
   },
   "outputs": [
    {
     "name": "stdout",
     "output_type": "stream",
     "text": [
      "Accuracy:    0.7132137030995106\n",
      "\n",
      "F1 Score:    0.6963730569948187\n",
      "\n",
      "Recall:      0.7533632286995515\n",
      "\n",
      "Precision:   0.6473988439306358\n",
      "\n"
     ]
    }
   ],
   "source": [
    "### metrics for the val\n",
    "\n",
    "y_pred=dtc.predict(scaled_x_val)\n",
    "My_metrics(y_val,y_pred)"
   ]
  },
  {
   "cell_type": "markdown",
   "id": "6cfbb659",
   "metadata": {
    "id": "6cfbb659"
   },
   "source": [
    "## Model 5:Naive Bayes Model"
   ]
  },
  {
   "cell_type": "code",
   "execution_count": 75,
   "id": "8864d3bb",
   "metadata": {
    "colab": {
     "base_uri": "https://localhost:8080/",
     "height": 0
    },
    "id": "8864d3bb",
    "outputId": "40638fc8-e52d-4bec-dc16-c347506f00bc"
   },
   "outputs": [
    {
     "data": {
      "text/plain": [
       "0.7117858185502567"
      ]
     },
     "execution_count": 75,
     "metadata": {},
     "output_type": "execute_result"
    }
   ],
   "source": [
    "from sklearn.naive_bayes import  GaussianNB\n",
    "\n",
    "nb = GaussianNB()\n",
    "nb.fit(scaled_x_train, y_train)\n",
    "nb.score(scaled_x_train, y_train)"
   ]
  },
  {
   "cell_type": "code",
   "execution_count": 76,
   "id": "312d08b8",
   "metadata": {
    "colab": {
     "base_uri": "https://localhost:8080/",
     "height": 0
    },
    "id": "312d08b8",
    "outputId": "d01074e3-e295-40f4-c951-877b601d1514"
   },
   "outputs": [
    {
     "name": "stdout",
     "output_type": "stream",
     "text": [
      "Accuracy:    0.6900489396411092\n",
      "\n",
      "F1 Score:    0.6647847565278757\n",
      "\n",
      "Recall:      0.7376664056382146\n",
      "\n",
      "Precision:   0.605009633911368\n",
      "\n"
     ]
    }
   ],
   "source": [
    "### metrics for the val\n",
    "\n",
    "y_pred=nb.predict(scaled_x_val)\n",
    "My_metrics(y_val,y_pred)"
   ]
  },
  {
   "cell_type": "markdown",
   "id": "IcY4n4dpIY90",
   "metadata": {
    "id": "IcY4n4dpIY90"
   },
   "source": [
    "#### Comment: After all these modeling the best fitting model is  MLP Classfier let see the Ensemble methods\n",
    "_________________"
   ]
  },
  {
   "cell_type": "markdown",
   "id": "fa7808ff",
   "metadata": {
    "id": "fa7808ff"
   },
   "source": [
    "## Ensemble Methods"
   ]
  },
  {
   "cell_type": "markdown",
   "id": "0ca14463",
   "metadata": {
    "id": "0ca14463"
   },
   "source": [
    "### Bootstrap: Random forest model"
   ]
  },
  {
   "cell_type": "code",
   "execution_count": 77,
   "id": "9e454d39",
   "metadata": {
    "colab": {
     "base_uri": "https://localhost:8080/",
     "height": 0
    },
    "id": "9e454d39",
    "outputId": "e0d5c60b-c150-4ee0-9f9b-3e05956fa388"
   },
   "outputs": [
    {
     "data": {
      "text/plain": [
       "0.745118579450808"
      ]
     },
     "execution_count": 77,
     "metadata": {},
     "output_type": "execute_result"
    }
   ],
   "source": [
    "from sklearn.ensemble import RandomForestClassifier\n",
    "\n",
    "rfc= RandomForestClassifier(n_estimators=50,\n",
    "                          max_depth=9,\n",
    "                          random_state=4)\n",
    "rfc.fit(scaled_x_train,y_train)\n",
    "rfc.score(scaled_x_train,y_train)"
   ]
  },
  {
   "cell_type": "code",
   "execution_count": 78,
   "id": "c9d05bb2",
   "metadata": {
    "colab": {
     "base_uri": "https://localhost:8080/",
     "height": 0
    },
    "id": "c9d05bb2",
    "outputId": "1efd0d2e-2217-45de-b17d-f6d700c817fc"
   },
   "outputs": [
    {
     "name": "stdout",
     "output_type": "stream",
     "text": [
      "Accuracy:    0.7243066884176182\n",
      "\n",
      "F1 Score:    0.703820539782685\n",
      "\n",
      "Recall:      0.7746913580246914\n",
      "\n",
      "Precision:   0.6448298008991651\n",
      "\n"
     ]
    }
   ],
   "source": [
    "### metrics for the val\n",
    "\n",
    "y_pred=rfc.predict(scaled_x_val)\n",
    "My_metrics(y_val,y_pred)"
   ]
  },
  {
   "cell_type": "markdown",
   "id": "4d762f77",
   "metadata": {
    "id": "4d762f77"
   },
   "source": [
    "### XGBoost (Extreme Gradient Boosting)"
   ]
  },
  {
   "cell_type": "code",
   "execution_count": 101,
   "id": "88e03f9b",
   "metadata": {
    "colab": {
     "base_uri": "https://localhost:8080/",
     "height": 0
    },
    "id": "88e03f9b",
    "outputId": "360646f5-addd-439c-f53a-f204d35311b0"
   },
   "outputs": [
    {
     "data": {
      "text/plain": [
       "0.7469904346482115"
      ]
     },
     "execution_count": 101,
     "metadata": {},
     "output_type": "execute_result"
    }
   ],
   "source": [
    "from xgboost import XGBClassifier\n",
    "\n",
    "xgb = XGBClassifier( n_estimators=50,\n",
    "                            max_depth=6, learning_rate=0.13,\n",
    "                            reg_lambda=5, scale_pos_weight=1)\n",
    "xgb.fit(scaled_x_train,y_train)\n",
    "xgb.score(scaled_x_train,y_train)"
   ]
  },
  {
   "cell_type": "code",
   "execution_count": 102,
   "id": "0d4901b7",
   "metadata": {
    "colab": {
     "base_uri": "https://localhost:8080/",
     "height": 0
    },
    "id": "0d4901b7",
    "outputId": "32d4f60e-3e42-437d-c9b5-cd5a6f904a6e"
   },
   "outputs": [
    {
     "name": "stdout",
     "output_type": "stream",
     "text": [
      "Accuracy:    0.7230016313213703\n",
      "\n",
      "F1 Score:    0.7103377686796316\n",
      "\n",
      "Recall:      0.75764192139738\n",
      "\n",
      "Precision:   0.6685934489402697\n",
      "\n"
     ]
    }
   ],
   "source": [
    "### metrics for the val\n",
    "\n",
    "y_pred=gbc.predict(scaled_x_val)\n",
    "My_metrics(y_val,y_pred)"
   ]
  },
  {
   "cell_type": "markdown",
   "id": "1c001a23",
   "metadata": {
    "id": "1c001a23"
   },
   "source": [
    "### Max Voting\n"
   ]
  },
  {
   "cell_type": "code",
   "execution_count": 95,
   "id": "cf841ee7",
   "metadata": {
    "id": "cf841ee7"
   },
   "outputs": [],
   "source": [
    "models = ['mlpc' ,'rfc','xgb'] # Best three models\n",
    "model_vars = [eval(n) for n in models]\n",
    "model_list = list(zip(models, model_vars))"
   ]
  },
  {
   "cell_type": "code",
   "execution_count": 96,
   "id": "683241ea",
   "metadata": {
    "colab": {
     "base_uri": "https://localhost:8080/",
     "height": 0
    },
    "id": "683241ea",
    "outputId": "dbd12573-fad3-40da-9a92-d6511769a8e7"
   },
   "outputs": [
    {
     "data": {
      "text/plain": [
       "0.7446549088973228"
      ]
     },
     "execution_count": 96,
     "metadata": {},
     "output_type": "execute_result"
    }
   ],
   "source": [
    "from sklearn.ensemble import VotingClassifier\n",
    "\n",
    "voting_classifer = VotingClassifier(estimators=model_list,\n",
    "                                    voting='hard', #<-- sklearn calls this hard voting\n",
    "                                    n_jobs=-1)\n",
    "voting_classifer.fit(scaled_x_train, y_train)\n",
    "voting_classifer.score(scaled_x_train, y_train)"
   ]
  },
  {
   "cell_type": "code",
   "execution_count": 97,
   "id": "33bf6549",
   "metadata": {
    "colab": {
     "base_uri": "https://localhost:8080/",
     "height": 0
    },
    "id": "33bf6549",
    "outputId": "8a982c32-8f8f-4466-feaf-d5bfb4da592f",
    "scrolled": true
   },
   "outputs": [
    {
     "name": "stdout",
     "output_type": "stream",
     "text": [
      "Accuracy:    0.7210440456769984\n",
      "\n",
      "F1 Score:    0.7052740434332989\n",
      "\n",
      "Recall:      0.7611607142857143\n",
      "\n",
      "Precision:   0.6570327552986512\n",
      "\n"
     ]
    }
   ],
   "source": [
    "### metrics for the val\n",
    "\n",
    "y_pred=voting_classifer.predict(scaled_x_val)\n",
    "My_metrics(y_val,y_pred)"
   ]
  },
  {
   "cell_type": "markdown",
   "id": "2811a9c1",
   "metadata": {
    "id": "2811a9c1"
   },
   "source": [
    "\n",
    "### Average Voting"
   ]
  },
  {
   "cell_type": "code",
   "execution_count": 98,
   "id": "e9e43bf7",
   "metadata": {
    "colab": {
     "base_uri": "https://localhost:8080/",
     "height": 0
    },
    "id": "e9e43bf7",
    "outputId": "a20491a0-3316-43b0-ae85-83e29ac58f62"
   },
   "outputs": [
    {
     "data": {
      "text/plain": [
       "0.7445346980130858"
      ]
     },
     "execution_count": 98,
     "metadata": {},
     "output_type": "execute_result"
    }
   ],
   "source": [
    "voting_classifer = VotingClassifier(estimators=model_list,\n",
    "                                    voting='soft', \n",
    "                                    n_jobs=-1)\n",
    "voting_classifer.fit(scaled_x_train, y_train)\n",
    "voting_classifer.score(scaled_x_train, y_train)"
   ]
  },
  {
   "cell_type": "code",
   "execution_count": 99,
   "id": "68c653d8",
   "metadata": {
    "colab": {
     "base_uri": "https://localhost:8080/",
     "height": 0
    },
    "id": "68c653d8",
    "outputId": "98ef72a0-06ee-4aae-de02-df0a1735c4a1"
   },
   "outputs": [
    {
     "name": "stdout",
     "output_type": "stream",
     "text": [
      "Accuracy:    0.7210440456769984\n",
      "\n",
      "F1 Score:    0.7056798623063684\n",
      "\n",
      "Recall:      0.7603857566765578\n",
      "\n",
      "Precision:   0.6583172768143867\n",
      "\n"
     ]
    }
   ],
   "source": [
    "### metrics for the val\n",
    "\n",
    "y_pred = voting_classifer.predict(scaled_x_val)\n",
    "My_metrics(y_val, y_pred)"
   ]
  },
  {
   "cell_type": "markdown",
   "id": "78ef3355",
   "metadata": {
    "id": "78ef3355"
   },
   "source": [
    "## Stacking Classifier"
   ]
  },
  {
   "cell_type": "code",
   "execution_count": 105,
   "id": "2cf86324",
   "metadata": {
    "colab": {
     "base_uri": "https://localhost:8080/",
     "height": 0
    },
    "id": "2cf86324",
    "outputId": "63562e66-1ddf-4dea-c250-5ba194f59b45"
   },
   "outputs": [
    {
     "data": {
      "text/plain": [
       "0.7444660060792362"
      ]
     },
     "execution_count": 105,
     "metadata": {},
     "output_type": "execute_result"
    }
   ],
   "source": [
    "from sklearn.ensemble import StackingClassifier\n",
    "\n",
    "estimators = [\n",
    "('rfc', RandomForestClassifier(n_estimators=50,max_depth=9,random_state=4)),\n",
    "('xgb', XGBClassifier( n_estimators=50, max_depth=6, learning_rate=0.13, reg_lambda=5, scale_pos_weight=1))\n",
    ",('voting_classifer', VotingClassifier(estimators=model_list,voting='soft', n_jobs=-1))]\n",
    "\n",
    "clf = StackingClassifier(estimators=estimators, final_estimator=LogisticRegression())\n",
    "\n",
    "clf.fit(scaled_x_train, y_train)\n",
    "clf.score(scaled_x_train, y_train)"
   ]
  },
  {
   "cell_type": "code",
   "execution_count": 106,
   "id": "7f2009be",
   "metadata": {
    "colab": {
     "base_uri": "https://localhost:8080/",
     "height": 0
    },
    "id": "7f2009be",
    "outputId": "7184abd6-9433-416c-dfe8-65d6f3ff2191"
   },
   "outputs": [
    {
     "name": "stdout",
     "output_type": "stream",
     "text": [
      "Accuracy:    0.7230016313213703\n",
      "\n",
      "F1 Score:    0.7103377686796316\n",
      "\n",
      "Recall:      0.75764192139738\n",
      "\n",
      "Precision:   0.6685934489402697\n",
      "\n"
     ]
    }
   ],
   "source": [
    "### metrics for the val\n",
    "\n",
    "Y_pred=gbc.predict(scaled_x_val)\n",
    "My_metrics(y_val,y_pred)"
   ]
  },
  {
   "cell_type": "markdown",
   "id": "5jcKRtnRL6JN",
   "metadata": {
    "id": "5jcKRtnRL6JN"
   },
   "source": [
    "#### Comment: after ensamble methods the best fitting models are  xgboosting , Average Voting, Random forest model, and Stacking Classifier\n",
    "____________________"
   ]
  },
  {
   "cell_type": "markdown",
   "id": "NI5oq8S7JAgk",
   "metadata": {
    "id": "NI5oq8S7JAgk"
   },
   "source": [
    "\n",
    "## Polynomial and  Feature selaction methods "
   ]
  },
  {
   "cell_type": "markdown",
   "id": "a3d089ad",
   "metadata": {
    "id": "a3d089ad"
   },
   "source": [
    "###  Feature selaction"
   ]
  },
  {
   "cell_type": "code",
   "execution_count": 107,
   "id": "77da3f8d",
   "metadata": {
    "colab": {
     "base_uri": "https://localhost:8080/",
     "height": 323
    },
    "id": "77da3f8d",
    "outputId": "5915ad96-e6df-4b6e-b0f6-cb48117c7186"
   },
   "outputs": [
    {
     "name": "stdout",
     "output_type": "stream",
     "text": [
      "[0.18855556 0.10505662 0.09031669 0.06836384 0.0431226  0.00828389\n",
      " 0.00671397 0.01248618 0.113518   0.03617595 0.0895497  0.00055379\n",
      " 0.01558798 0.02097266 0.02030047 0.00923075 0.00505369 0.00767228\n",
      " 0.00462017 0.0051469  0.00117423 0.0240189  0.1235252 ]\n"
     ]
    },
    {
     "data": {
      "image/png": "[encoded data removed]",
      "text/plain": [
       "<Figure size 432x288 with 1 Axes>"
      ]
     },
     "metadata": {
      "needs_background": "light"
     },
     "output_type": "display_data"
    }
   ],
   "source": [
    "\n",
    "from sklearn.ensemble import ExtraTreesClassifier\n",
    "model = ExtraTreesClassifier()\n",
    "model.fit(x_train,y_train)\n",
    "print(model.feature_importances_) #use inbuilt class feature_importances of tree based classifiers\n",
    "#plot graph of feature importances for better visualization\n",
    "feat_importances = pd.Series(model.feature_importances_, index=x_train.columns)\n",
    "feat_importances.nlargest(14).plot(kind='barh')\n",
    "plt.show()"
   ]
  },
  {
   "cell_type": "code",
   "execution_count": 108,
   "id": "fea38373",
   "metadata": {
    "colab": {
     "base_uri": "https://localhost:8080/",
     "height": 0
    },
    "id": "fea38373",
    "outputId": "97ae18ad-6296-4b41-ae9e-2b2d6bb05041"
   },
   "outputs": [
    {
     "data": {
      "text/plain": [
       "Index(['age', 'height', 'weight', 'systolic_bp', 'diastolic_bp', 'smoke',\n",
       "       'alcohol', 'active', 'BMI', 'ratio_S/D', 'ratio_(S/D)/Weight',\n",
       "       'relation_wp', 'gender_women', 'cholesterol_normal',\n",
       "       'cholesterol_well_above_normal', 'glucose_normal',\n",
       "       'glucose_well_above_normal', 'BMI_class_Overweight',\n",
       "       'BMI_class_extrem obese', 'BMI_class_obese', 'BMI_class_underweight',\n",
       "       'age_class_Old', 'bp_class_normal', 'disease'],\n",
       "      dtype='object')"
      ]
     },
     "execution_count": 108,
     "metadata": {},
     "output_type": "execute_result"
    }
   ],
   "source": [
    "train.columns"
   ]
  },
  {
   "cell_type": "code",
   "execution_count": 109,
   "id": "4b58090e",
   "metadata": {
    "id": "4b58090e"
   },
   "outputs": [],
   "source": [
    "  \n",
    "X = train[[ 'age','BMI','bp_class_normal','height','weight','systolic_bp','diastolic_bp','cholesterol_well_above_normal','age_class_Old','ratio_(S/D)/Weight','ratio_S/D','cholesterol_normal','gender_women','active']]\n",
    "Y = train['disease']\n",
    "\n",
    "X_train,X_test,Y_train,Y_test= train_test_split(X,Y ,test_size=0.05, random_state=42)\n",
    "X_train,X_val,Y_train,Y_val= train_test_split(X_train,Y_train ,test_size=0.05, random_state=42)\n",
    "\n",
    "scaler = StandardScaler()\n",
    "scaler.fit(X_train)\n",
    "\n",
    "scaled_X_train = scaler.transform(X_train)\n",
    "scaled_X_val = scaler.transform(X_val)\n",
    "scaled_X_test = scaler.transform(X_test)"
   ]
  },
  {
   "cell_type": "markdown",
   "id": "7b3687cb",
   "metadata": {
    "id": "7b3687cb"
   },
   "source": [
    "#### Logistic Regression"
   ]
  },
  {
   "cell_type": "code",
   "execution_count": 110,
   "id": "43bc1403",
   "metadata": {
    "colab": {
     "base_uri": "https://localhost:8080/",
     "height": 0
    },
    "id": "43bc1403",
    "outputId": "fa446c05-623b-4628-9706-89d5d6495629"
   },
   "outputs": [
    {
     "data": {
      "text/plain": [
       "0.7293335020517363"
      ]
     },
     "execution_count": 110,
     "metadata": {},
     "output_type": "execute_result"
    }
   ],
   "source": [
    "lr =LogisticRegression(C=0.1,verbose=0,max_iter=300,random_state=500)\n",
    "lr.fit(scaled_X_train,Y_train)\n",
    "lr.score(scaled_X_train,Y_train)"
   ]
  },
  {
   "cell_type": "code",
   "execution_count": 111,
   "id": "03a0b7fc",
   "metadata": {
    "colab": {
     "base_uri": "https://localhost:8080/",
     "height": 0
    },
    "id": "03a0b7fc",
    "outputId": "5b135cc4-6ce4-46f1-b33c-73ed4e551645"
   },
   "outputs": [
    {
     "name": "stdout",
     "output_type": "stream",
     "text": [
      "Accuracy:    0.7269917582417582\n",
      "\n",
      "F1 Score:    0.6943483275663207\n",
      "\n",
      "Recall:      0.7724550898203593\n",
      "\n",
      "Precision:   0.630586592178771\n",
      "\n"
     ]
    }
   ],
   "source": [
    "### metrics for the val\n",
    "\n",
    "y_pred=lr.predict(scaled_X_val)\n",
    "My_metrics(Y_val,y_pred)"
   ]
  },
  {
   "cell_type": "markdown",
   "id": "499ae102",
   "metadata": {
    "id": "499ae102"
   },
   "source": [
    " #### MLP Classfier"
   ]
  },
  {
   "cell_type": "code",
   "execution_count": 112,
   "id": "6c1b786c",
   "metadata": {
    "colab": {
     "base_uri": "https://localhost:8080/",
     "height": 0
    },
    "id": "6c1b786c",
    "outputId": "33fa9169-21a3-4e20-c89c-3c0b7597df63"
   },
   "outputs": [
    {
     "data": {
      "text/plain": [
       "0.7356423651909832"
      ]
     },
     "execution_count": 112,
     "metadata": {},
     "output_type": "execute_result"
    }
   ],
   "source": [
    "mlpc = MLPClassifier(activation= 'relu', alpha= 0.05, hidden_layer_sizes= (20,), learning_rate= 'constant', solver= 'adam',random_state=1, max_iter=100)\n",
    "mlpc.fit(scaled_X_train, Y_train)\n",
    "mlpc.score(scaled_X_train,Y_train)"
   ]
  },
  {
   "cell_type": "code",
   "execution_count": 113,
   "id": "1622e990",
   "metadata": {
    "colab": {
     "base_uri": "https://localhost:8080/",
     "height": 0
    },
    "id": "1622e990",
    "outputId": "cec36a32-7e8f-44ad-9e70-74ea1f8ccdf3"
   },
   "outputs": [
    {
     "name": "stdout",
     "output_type": "stream",
     "text": [
      "Accuracy:    0.7372939560439561\n",
      "\n",
      "F1 Score:    0.7229264759145239\n",
      "\n",
      "Recall:      0.7509405568096313\n",
      "\n",
      "Precision:   0.696927374301676\n",
      "\n"
     ]
    }
   ],
   "source": [
    "### metrics for the val\n",
    "\n",
    "y_pred=mlpc.predict(scaled_X_val)\n",
    "My_metrics(Y_val,y_pred)"
   ]
  },
  {
   "cell_type": "markdown",
   "id": "72f544de",
   "metadata": {
    "id": "72f544de"
   },
   "source": [
    "#### Random Forest Classifier"
   ]
  },
  {
   "cell_type": "code",
   "execution_count": 114,
   "id": "cf7b2d08",
   "metadata": {
    "colab": {
     "base_uri": "https://localhost:8080/",
     "height": 0
    },
    "id": "cf7b2d08",
    "outputId": "f23e816e-d933-4966-b8cb-bafbdd998260"
   },
   "outputs": [
    {
     "data": {
      "text/plain": [
       "0.7453858529619118"
      ]
     },
     "execution_count": 114,
     "metadata": {},
     "output_type": "execute_result"
    }
   ],
   "source": [
    "rfc= RandomForestClassifier(n_estimators=50,\n",
    "                          max_depth=9,\n",
    "                          random_state=4)\n",
    "rfc.fit(scaled_X_train,Y_train)\n",
    "rfc.score(scaled_X_train,Y_train)"
   ]
  },
  {
   "cell_type": "code",
   "execution_count": 115,
   "id": "1c11ec14",
   "metadata": {
    "colab": {
     "base_uri": "https://localhost:8080/",
     "height": 0
    },
    "id": "1c11ec14",
    "outputId": "47abd7a9-2357-4f7b-bd97-249b92ec6141"
   },
   "outputs": [
    {
     "name": "stdout",
     "output_type": "stream",
     "text": [
      "Accuracy:    0.7321428571428571\n",
      "\n",
      "F1 Score:    0.710467706013363\n",
      "\n",
      "Recall:      0.7583201267828843\n",
      "\n",
      "Precision:   0.6682960893854749\n",
      "\n"
     ]
    }
   ],
   "source": [
    "### metrics for the val\n",
    "\n",
    "y_pred=rfc.predict(scaled_X_val)\n",
    "My_metrics(Y_val,y_pred)"
   ]
  },
  {
   "cell_type": "markdown",
   "id": "ee696914",
   "metadata": {
    "id": "ee696914"
   },
   "source": [
    "#### xgboosting"
   ]
  },
  {
   "cell_type": "code",
   "execution_count": 116,
   "id": "01a3dc00",
   "metadata": {
    "colab": {
     "base_uri": "https://localhost:8080/",
     "height": 0
    },
    "id": "01a3dc00",
    "outputId": "468cf3f8-e152-4fe8-9c04-bfbff0e40ffa"
   },
   "outputs": [
    {
     "data": {
      "text/plain": [
       "0.7463981633796707"
      ]
     },
     "execution_count": 116,
     "metadata": {},
     "output_type": "execute_result"
    }
   ],
   "source": [
    "import xgboost as xgb\n",
    "\n",
    "xgb = XGBClassifier( n_estimators=50,\n",
    "                            max_depth=6, learning_rate=0.13,\n",
    "                            reg_lambda=5, scale_pos_weight=1)\n",
    "xgb.fit(scaled_X_train,Y_train)\n",
    "xgb.score(scaled_X_train,Y_train)"
   ]
  },
  {
   "cell_type": "code",
   "execution_count": 118,
   "id": "51f51538",
   "metadata": {
    "colab": {
     "base_uri": "https://localhost:8080/",
     "height": 0
    },
    "id": "51f51538",
    "outputId": "2757147f-3974-4f09-da5b-85e760542cef"
   },
   "outputs": [
    {
     "name": "stdout",
     "output_type": "stream",
     "text": [
      "Accuracy:    0.7396978021978022\n",
      "\n",
      "F1 Score:    0.7263537906137184\n",
      "\n",
      "Recall:      0.7518684603886397\n",
      "\n",
      "Precision:   0.702513966480447\n",
      "\n"
     ]
    }
   ],
   "source": [
    "### metrics for the val\n",
    "\n",
    "y_pred=xgb.predict(scaled_X_val)\n",
    "My_metrics(Y_val,y_pred)"
   ]
  },
  {
   "cell_type": "markdown",
   "id": "b205cbf5",
   "metadata": {
    "id": "b205cbf5"
   },
   "source": [
    "#### avarge voting"
   ]
  },
  {
   "cell_type": "code",
   "execution_count": 119,
   "id": "259b03fe",
   "metadata": {
    "colab": {
     "base_uri": "https://localhost:8080/",
     "height": 0
    },
    "id": "259b03fe",
    "outputId": "b7e93e8b-734a-464b-8c78-503e6ab05cd9"
   },
   "outputs": [
    {
     "data": {
      "text/plain": [
       "0.7435962327590881"
      ]
     },
     "execution_count": 119,
     "metadata": {},
     "output_type": "execute_result"
    }
   ],
   "source": [
    "voting_classifer = VotingClassifier(estimators=model_list,\n",
    "                                    voting='soft', \n",
    "                                    n_jobs=-1)\n",
    "voting_classifer.fit(scaled_X_train, Y_train)\n",
    "voting_classifer.score(scaled_X_train, Y_train)"
   ]
  },
  {
   "cell_type": "code",
   "execution_count": 120,
   "id": "996f362d",
   "metadata": {
    "colab": {
     "base_uri": "https://localhost:8080/",
     "height": 0
    },
    "id": "996f362d",
    "outputId": "05704f6a-5c6a-40c0-9b24-ceb7b6e8389c"
   },
   "outputs": [
    {
     "name": "stdout",
     "output_type": "stream",
     "text": [
      "Accuracy:    0.7379807692307693\n",
      "\n",
      "F1 Score:    0.7208196121478229\n",
      "\n",
      "Recall:      0.7571099154496541\n",
      "\n",
      "Precision:   0.6878491620111732\n",
      "\n"
     ]
    }
   ],
   "source": [
    "### metrics for the val\n",
    "\n",
    "y_pred = voting_classifer.predict(scaled_X_val)\n",
    "My_metrics(Y_val, y_pred)"
   ]
  },
  {
   "cell_type": "markdown",
   "id": "i4dtL7hvNqhM",
   "metadata": {
    "id": "i4dtL7hvNqhM"
   },
   "source": [
    "#### Stacking Classifier"
   ]
  },
  {
   "cell_type": "code",
   "execution_count": 126,
   "id": "VG15e8XFNPLp",
   "metadata": {
    "colab": {
     "base_uri": "https://localhost:8080/",
     "height": 0
    },
    "id": "VG15e8XFNPLp",
    "outputId": "700ab990-d41a-4dba-a517-58fc51a5796f"
   },
   "outputs": [
    {
     "data": {
      "text/plain": [
       "0.7437046945895623"
      ]
     },
     "execution_count": 126,
     "metadata": {},
     "output_type": "execute_result"
    }
   ],
   "source": [
    "clf = StackingClassifier(estimators=estimators, final_estimator=LogisticRegression())\n",
    "\n",
    "clf.fit(scaled_X_train, Y_train)\n",
    "clf.score(scaled_X_train, Y_train)"
   ]
  },
  {
   "cell_type": "code",
   "execution_count": 127,
   "id": "u_Dqj4JKN6hQ",
   "metadata": {
    "colab": {
     "base_uri": "https://localhost:8080/",
     "height": 0
    },
    "id": "u_Dqj4JKN6hQ",
    "outputId": "1854a7cc-7a6a-411c-9563-de3722247207"
   },
   "outputs": [
    {
     "name": "stdout",
     "output_type": "stream",
     "text": [
      "Accuracy:    0.739010989010989\n",
      "\n",
      "F1 Score:    0.7260273972602741\n",
      "\n",
      "Recall:      0.7503725782414307\n",
      "\n",
      "Precision:   0.7032122905027933\n",
      "\n"
     ]
    }
   ],
   "source": [
    "### metrics for the val\n",
    "\n",
    "y_pred = clf.predict(scaled_X_val)\n",
    "My_metrics(Y_val, y_pred)"
   ]
  },
  {
   "cell_type": "markdown",
   "id": "FZUzuf6KDIKP",
   "metadata": {
    "id": "FZUzuf6KDIKP"
   },
   "source": [
    "### Polynomial Feature"
   ]
  },
  {
   "cell_type": "code",
   "execution_count": 129,
   "id": "HLySJDGSDRTH",
   "metadata": {
    "colab": {
     "base_uri": "https://localhost:8080/",
     "height": 0
    },
    "id": "HLySJDGSDRTH",
    "outputId": "ca1b4093-7b7d-4fb0-dc33-1417986b6be1"
   },
   "outputs": [
    {
     "data": {
      "text/plain": [
       "0.7522370252535295"
      ]
     },
     "execution_count": 129,
     "metadata": {},
     "output_type": "execute_result"
    }
   ],
   "source": [
    "from sklearn.preprocessing import  PolynomialFeatures\n",
    "\n",
    "rf_poly2 = XGBClassifier( n_estimators=50, max_depth=6, learning_rate=0.13,reg_lambda=5, scale_pos_weight=1) # performance with best model\n",
    "poly2 = PolynomialFeatures(degree=2) \n",
    "poly_X_train= poly2.fit_transform(scaled_X_train)\n",
    "poly_X_val= poly2.transform(scaled_X_val)\n",
    "rf_poly2.fit(poly_X_train, Y_train)\n",
    "rf_poly2.score(poly_X_train, Y_train)"
   ]
  },
  {
   "cell_type": "code",
   "execution_count": 131,
   "id": "plj9puy-DYLY",
   "metadata": {
    "colab": {
     "base_uri": "https://localhost:8080/",
     "height": 0
    },
    "id": "plj9puy-DYLY",
    "outputId": "f9b2d587-8a98-4d39-d3b3-fa9371b9f504"
   },
   "outputs": [
    {
     "name": "stdout",
     "output_type": "stream",
     "text": [
      "Accuracy:    0.7376373626373627\n",
      "\n",
      "F1 Score:    0.723388848660391\n",
      "\n",
      "Recall:      0.7511278195488722\n",
      "\n",
      "Precision:   0.6976256983240223\n",
      "\n"
     ]
    }
   ],
   "source": [
    "### metrics for the val\n",
    "\n",
    "y_pred=rf_poly2.predict(poly_X_val)\n",
    "My_metrics(Y_val,y_pred)"
   ]
  },
  {
   "cell_type": "markdown",
   "id": "LsfGZrqNKGs0",
   "metadata": {
    "id": "LsfGZrqNKGs0"
   },
   "source": [
    "#### Comment: Feature selaction did improve the models a little "
   ]
  },
  {
   "cell_type": "markdown",
   "id": "4a845619",
   "metadata": {
    "id": "4a845619"
   },
   "source": [
    "## GridSearch\n",
    "\n",
    "#### Gridsearch on best fitting which is  Extreme Gradient Boosting"
   ]
  },
  {
   "cell_type": "code",
   "execution_count": 132,
   "id": "ab1aceff",
   "metadata": {
    "id": "ab1aceff"
   },
   "outputs": [],
   "source": [
    "from xgboost import XGBClassifier\n",
    "\n",
    "estimator = XGBClassifier(\n",
    "    objective= 'binary:logistic',\n",
    "    nthread=4,\n",
    "    seed=42\n",
    ")\n",
    "\n",
    "parameters = {\n",
    "    'max_depth': range (2, 10, 1),\n",
    "    'n_estimators': range(60, 220, 40),\n",
    "    'learning_rate': [0.1, 0.01, 0.05]\n",
    "}\n",
    "\n",
    "\n",
    "grid_search = GridSearchCV(\n",
    "    estimator=estimator,\n",
    "    param_grid=parameters,\n",
    "    scoring = 'roc_auc',\n",
    "    n_jobs = 10,\n",
    "    cv = 3,\n",
    "    verbose=True\n",
    ")"
   ]
  },
  {
   "cell_type": "code",
   "execution_count": 135,
   "id": "f5bd6190",
   "metadata": {
    "colab": {
     "base_uri": "https://localhost:8080/",
     "height": 0
    },
    "id": "f5bd6190",
    "outputId": "86fe9dfa-096b-4524-acca-85a6ecddadc2"
   },
   "outputs": [
    {
     "name": "stdout",
     "output_type": "stream",
     "text": [
      "Fitting 10 folds for each of 96 candidates, totalling 960 fits\n"
     ]
    },
    {
     "data": {
      "text/plain": [
       "XGBClassifier(max_depth=4, nthread=4, seed=42)"
      ]
     },
     "execution_count": 135,
     "metadata": {},
     "output_type": "execute_result"
    }
   ],
   "source": [
    "grid_search.fit(scaled_X_train, Y_train)\n",
    "grid_search.best_estimator_"
   ]
  },
  {
   "cell_type": "markdown",
   "id": "Iil-t7MrKfEj",
   "metadata": {
    "id": "Iil-t7MrKfEj"
   },
   "source": [
    "## Testing on selected model\n"
   ]
  },
  {
   "cell_type": "markdown",
   "id": "ftD8j2sJMAAD",
   "metadata": {
    "id": "ftD8j2sJMAAD"
   },
   "source": [
    "#### Besed on our best fitting on the data the best model is the Extreme Gradient Boosting."
   ]
  },
  {
   "cell_type": "code",
   "execution_count": 127,
   "id": "f525CZKXKYh2",
   "metadata": {
    "id": "f525CZKXKYh2"
   },
   "outputs": [],
   "source": [
    "x_train = pd.concat([x_train, x_val])\n",
    "y_train = pd.concat([y_train, y_val])\n",
    "\n",
    "x_train = x_train[[ 'age','BMI','bp_class_normal','height','weight','systolic_bp','diastolic_bp','cholesterol_well_above_normal','age_class_Old','ratio_(S/D)/Weight','ratio_S/D','cholesterol_normal','gender_women','active']]\n",
    "x_test = x_test[[ 'age','BMI','bp_class_normal','height','weight','systolic_bp','diastolic_bp','cholesterol_well_above_normal','age_class_Old','ratio_(S/D)/Weight','ratio_S/D','cholesterol_normal','gender_women','active']]\n",
    "\n",
    "\n",
    "scaler = StandardScaler()\n",
    "scaler.fit(x_train)\n",
    "\n",
    "scaled_x_train = scaler.transform(x_train)\n",
    "scaled_x_test = scaler.transform(x_test)"
   ]
  },
  {
   "cell_type": "code",
   "execution_count": 128,
   "id": "lsuzHVKzKder",
   "metadata": {
    "colab": {
     "base_uri": "https://localhost:8080/",
     "height": 0
    },
    "id": "lsuzHVKzKder",
    "outputId": "1ef5b497-3cfe-4d68-8ca7-302b8de4ac91"
   },
   "outputs": [
    {
     "name": "stdout",
     "output_type": "stream",
     "text": [
      "[11:08:02] WARNING: D:\\bld\\xgboost-split_1637426510059\\work\\src\\learner.cc:1115: Starting in XGBoost 1.3.0, the default evaluation metric used with the objective 'binary:logistic' was changed from 'error' to 'logloss'. Explicitly set eval_metric if you'd like to restore the old behavior.\n"
     ]
    },
    {
     "data": {
      "text/plain": [
       "0.7450894022448447"
      ]
     },
     "execution_count": 128,
     "metadata": {},
     "output_type": "execute_result"
    }
   ],
   "source": [
    "import xgboost as xgb\n",
    "\n",
    "xgb = xgb.XGBClassifier(max_depth=4, nthread=4, seed=42)\n",
    "xgb.fit(scaled_x_train,y_train)\n",
    "xgb.score(scaled_x_train,y_train)"
   ]
  },
  {
   "cell_type": "code",
   "execution_count": 129,
   "id": "yRJBVXnnNf7a",
   "metadata": {
    "colab": {
     "base_uri": "https://localhost:8080/",
     "height": 0
    },
    "id": "yRJBVXnnNf7a",
    "outputId": "d262993a-9844-40d6-b4b0-e82f67affe21"
   },
   "outputs": [
    {
     "name": "stdout",
     "output_type": "stream",
     "text": [
      "Accuracy:    0.736948370349005\n",
      "\n",
      "F1 Score:    0.7287328970850685\n",
      "\n",
      "Recall:      0.7589838909541512\n",
      "\n",
      "Precision:   0.7008009153318078\n",
      "\n"
     ]
    }
   ],
   "source": [
    "y_pred=xgb.predict(scaled_x_test)\n",
    "My_metrics(y_test,y_pred)"
   ]
  },
  {
   "cell_type": "code",
   "execution_count": 130,
   "id": "5_5wq7XuNmNJ",
   "metadata": {
    "colab": {
     "base_uri": "https://localhost:8080/",
     "height": 295
    },
    "id": "5_5wq7XuNmNJ",
    "outputId": "072960bc-ddf3-48c1-b41a-a6e337ebb8a4"
   },
   "outputs": [
    {
     "data": {
      "image/png": "[encoded data removed]",
      "text/plain": [
       "<Figure size 432x288 with 2 Axes>"
      ]
     },
     "metadata": {
      "needs_background": "light"
     },
     "output_type": "display_data"
    }
   ],
   "source": [
    "from sklearn.metrics import classification_report,confusion_matrix ,accuracy_score , plot_confusion_matrix ,plot_roc_curve\n",
    "\n",
    "plot_confusion_matrix(xgb, scaled_x_test, y_test, cmap=plt.cm.Blues)  \n",
    "plt.title('confusion matrix');\n",
    "\n",
    "plt.show()"
   ]
  },
  {
   "cell_type": "code",
   "execution_count": 131,
   "id": "0nUoEu-WN13q",
   "metadata": {
    "colab": {
     "base_uri": "https://localhost:8080/",
     "height": 0
    },
    "id": "0nUoEu-WN13q",
    "outputId": "d71a6ddf-de43-4cdb-905d-341b82e15d8f"
   },
   "outputs": [
    {
     "name": "stdout",
     "output_type": "stream",
     "text": [
      "              precision    recall  f1-score   support\n",
      "\n",
      "           0       0.72      0.77      0.74      1719\n",
      "           1       0.76      0.70      0.73      1748\n",
      "\n",
      "    accuracy                           0.74      3467\n",
      "   macro avg       0.74      0.74      0.74      3467\n",
      "weighted avg       0.74      0.74      0.74      3467\n",
      "\n"
     ]
    }
   ],
   "source": [
    "print(classification_report(y_test,y_pred))\n"
   ]
  },
  {
   "cell_type": "code",
   "execution_count": 132,
   "id": "eU7jp18yOOxt",
   "metadata": {
    "colab": {
     "base_uri": "https://localhost:8080/",
     "height": 313
    },
    "id": "eU7jp18yOOxt",
    "outputId": "332e0626-6fc1-4bf8-c0c4-453f74e57ada"
   },
   "outputs": [
    {
     "name": "stdout",
     "output_type": "stream",
     "text": [
      "ROC AUC score =  0.7990639680618954\n"
     ]
    },
    {
     "data": {
      "image/png": "[encoded data removed]",
      "text/plain": [
       "<Figure size 432x288 with 1 Axes>"
      ]
     },
     "metadata": {
      "needs_background": "light"
     },
     "output_type": "display_data"
    }
   ],
   "source": [
    "from sklearn.metrics import roc_auc_score, roc_curve\n",
    "\n",
    "fpr, tpr, thresholds = roc_curve(y_test, xgb.predict_proba(scaled_x_test)[:,1])\n",
    "\n",
    "plt.plot(fpr, tpr,lw=2)\n",
    "plt.plot([0,1],[0,1],c='violet',ls='--')\n",
    "plt.xlim([-0.05,1.05])\n",
    "plt.ylim([-0.05,1.05])\n",
    "\n",
    "\n",
    "plt.xlabel('False positive rate')\n",
    "plt.ylabel('True positive rate')\n",
    "plt.title('ROC curve for patient condtion');\n",
    "print(\"ROC AUC score = \", roc_auc_score(y_test, xgb.predict_proba(scaled_x_test)[:,1]))"
   ]
  },
  {
   "cell_type": "code",
   "execution_count": null,
   "id": "0c32c01f",
   "metadata": {},
   "outputs": [],
   "source": []
  }
 ],
 "metadata": {
  "colab": {
   "collapsed_sections": [
    "40355dce",
    "e5ea53b9",
    "cbc505df",
    "54eceb55",
    "776765e0",
    "43723547",
    "3c9c1dd8",
    "7b752d39",
    "4cbeaa42",
    "19c1f7c1",
    "5e703af2",
    "0bc91686",
    "7e160926",
    "ada33778",
    "69194062",
    "e43e58af",
    "852ac0cb",
    "1a46777b",
    "f9141d58",
    "0ade5823",
    "6cfbb659",
    "0ca14463",
    "4d762f77",
    "1c001a23",
    "2811a9c1",
    "b205cbf5",
    "i4dtL7hvNqhM"
   ],
   "name": "Cardiovascular_Disease_dataset.ipynb",
   "provenance": []
  },
  "kernelspec": {
   "display_name": "Python 3",
   "language": "python",
   "name": "python3"
  },
  "language_info": {
   "codemirror_mode": {
    "name": "ipython",
    "version": 3
   },
   "file_extension": ".py",
   "mimetype": "text/x-python",
   "name": "python",
   "nbconvert_exporter": "python",
   "pygments_lexer": "ipython3",
   "version": "3.8.8"
  }
 },
 "nbformat": 4,
 "nbformat_minor": 5
}
